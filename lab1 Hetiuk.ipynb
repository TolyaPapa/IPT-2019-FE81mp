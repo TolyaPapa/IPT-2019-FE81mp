{
 "cells": [
  {
   "cell_type": "code",
   "execution_count": 24,
   "metadata": {},
   "outputs": [
    {
     "name": "stdout",
     "output_type": "stream",
     "text": [
      "{'red':            name  min  max        mean          var  median  interquartile  \\\n",
      "0   im10078.jpg    4  255  165.551291  1369.448169   170.0           55.0   \n",
      "1   im10412.jpg    0  255  151.116402  5233.346132   169.0           74.0   \n",
      "2    im1150.jpg    0  255   84.923393  9561.100972    23.0          177.0   \n",
      "3    im1498.jpg    0  255  117.271792  3243.911425   121.0           87.0   \n",
      "4    im1029.jpg    0  255  127.229995  6148.833032   116.0          120.0   \n",
      "5    im1521.jpg    0  255   96.107792  9792.289061    37.0          223.0   \n",
      "6    im1513.jpg    0  255  151.039851  5534.296236   188.0          142.0   \n",
      "7     im150.jpg    0  255   53.055343  3139.505570    36.0           54.0   \n",
      "8    im1105.jpg    0  255   80.178156  3544.637504    80.0           94.0   \n",
      "9    im1443.jpg    0  255   82.014222  2220.394464    77.0           64.0   \n",
      "10   im1083.jpg    0  255   82.160773  4035.892550    55.0          110.0   \n",
      "11   im1146.jpg    0  255   97.297075  3705.200882   103.0           83.0   \n",
      "12  im10177.jpg    0  255   30.314183  1710.050554    15.0           51.0   \n",
      "13  im13893.jpg    0  255   86.334293  5214.014733    68.0          101.0   \n",
      "14  im10188.jpg    0  255  100.355844  6863.172699    78.0          151.0   \n",
      "15   im1366.jpg    0  255   79.010480  4288.480845    61.0           91.0   \n",
      "16   im1296.jpg    0  255  143.553405  5612.596121   140.0          126.0   \n",
      "17  im10310.jpg    0  255   72.488920  3181.392921    85.0          104.0   \n",
      "18   im1381.jpg    0  255   48.823090  6289.437889     3.0           68.0   \n",
      "19   im1162.jpg    0  251   85.298901  6252.318412    62.0          157.0   \n",
      "\n",
      "    skewness  kurtosis  \n",
      "0  -0.352494 -0.405795  \n",
      "1  -0.760267 -0.513340  \n",
      "2   0.710303 -1.191547  \n",
      "3   0.044343 -0.598360  \n",
      "4   0.400077 -0.996027  \n",
      "5   0.414237 -1.625862  \n",
      "6  -0.442181 -1.401974  \n",
      "7   1.643476  2.456193  \n",
      "8   0.519447 -0.154831  \n",
      "9   0.616792  0.126453  \n",
      "10  0.517691 -1.029552  \n",
      "11  0.316332  0.078698  \n",
      "12  2.575193  9.506207  \n",
      "13  0.876639 -0.210068  \n",
      "14  0.439520 -1.238838  \n",
      "15  0.883170 -0.081594  \n",
      "16 -0.236980 -1.066604  \n",
      "17  0.497071 -0.357608  \n",
      "18  1.602801  1.199688  \n",
      "19  0.391138 -1.350575  , 'green':            name  min  max        mean          var  median  interquartile  \\\n",
      "0   im10078.jpg    1  255  134.935616  1872.290831   133.0           67.0   \n",
      "1   im10412.jpg    0  254  126.286871  4047.665237   145.0           94.0   \n",
      "2    im1150.jpg    0  255   71.142763  7394.649481    21.0          144.0   \n",
      "3    im1498.jpg    0  255  124.397184  2484.533861   135.0           66.0   \n",
      "4    im1029.jpg    0  255  125.138526  5862.935976   105.0          114.0   \n",
      "5    im1521.jpg    0  255   95.963744  9812.472118    37.0          223.0   \n",
      "6    im1513.jpg    0  255  135.158645  9345.864016   151.0          204.0   \n",
      "7     im150.jpg    0  255   53.055343  3139.505570    36.0           54.0   \n",
      "8    im1105.jpg    0  255   82.294318  3962.439419    77.0          101.0   \n",
      "9    im1443.jpg    0  255   79.638703  3097.454677    73.0           82.0   \n",
      "10   im1083.jpg    0  255   92.558074  4286.634071    62.0          118.0   \n",
      "11   im1146.jpg    0  255   84.256132  3773.668943    69.0           90.0   \n",
      "12  im10177.jpg    0  255   15.521925   850.617941     6.0           22.0   \n",
      "13  im13893.jpg    0  255   86.334293  5214.014733    68.0          101.0   \n",
      "14  im10188.jpg    0  255  103.812508  5674.359259    89.0          123.0   \n",
      "15   im1366.jpg    0  255   66.015892  4265.639111    47.0           95.0   \n",
      "16   im1296.jpg    0  255  142.077387  5052.092324   135.0          122.0   \n",
      "17  im10310.jpg    0  255  113.739428  5113.706680   142.0          144.0   \n",
      "18   im1381.jpg    0  255   48.823090  6289.437889     3.0           68.0   \n",
      "19   im1162.jpg    0  187   60.724811  1310.119436    67.0           50.0   \n",
      "\n",
      "    skewness   kurtosis  \n",
      "0   0.261503  -0.755649  \n",
      "1  -0.611305  -0.897226  \n",
      "2   0.882845  -0.801789  \n",
      "3  -0.524346  -0.481345  \n",
      "4   0.599927  -0.941713  \n",
      "5   0.414963  -1.626817  \n",
      "6  -0.138923  -1.764155  \n",
      "7   1.643476   2.456193  \n",
      "8   0.550309  -0.393729  \n",
      "9   0.646958  -0.082207  \n",
      "10  0.430820  -1.259327  \n",
      "11  0.955869   0.557376  \n",
      "12  4.525706  25.410830  \n",
      "13  0.876639  -0.210068  \n",
      "14  0.429143  -1.062638  \n",
      "15  1.008863   0.173141  \n",
      "16 -0.008966  -1.116991  \n",
      "17 -0.024857  -1.828654  \n",
      "18  1.602801   1.199688  \n",
      "19 -0.292886  -0.602400  , 'blue':            name  min  max        mean          var  median  interquartile  \\\n",
      "0   im10078.jpg    0  255   98.170917  3013.761747    95.0           92.0   \n",
      "1   im10412.jpg    0  255  128.228222  3858.639092   145.0           89.0   \n",
      "2    im1150.jpg    0  255   40.941207  3252.480646     9.0           66.0   \n",
      "3    im1498.jpg    0  255  108.158293  3349.492639   120.0          105.0   \n",
      "4    im1029.jpg    0  255   89.029192  8536.718443    48.0          134.0   \n",
      "5    im1521.jpg    0  255   95.963592  9812.472546    37.0          223.0   \n",
      "6    im1513.jpg    2  255  145.580384  5659.625576   132.0          157.0   \n",
      "7     im150.jpg    0  255   53.055343  3139.505570    36.0           54.0   \n",
      "8    im1105.jpg    0  255   83.284366  4445.906841    71.0          108.0   \n",
      "9    im1443.jpg    0  255   90.713520  5447.658944    68.0          101.0   \n",
      "10   im1083.jpg    0  255   90.029562  3761.976893    62.0          110.0   \n",
      "11   im1146.jpg    0  255   83.536667  4284.597004    77.0          101.0   \n",
      "12  im10177.jpg    0  255    4.038272   248.541650     0.0            3.0   \n",
      "13  im13893.jpg    0  255   86.334293  5214.014733    68.0          101.0   \n",
      "14  im10188.jpg    0  255   90.861564  6381.947599    66.0          140.0   \n",
      "15   im1366.jpg    0  255   50.750222  3620.487545    28.0           74.0   \n",
      "16   im1296.jpg    0  255  123.347874  7552.428491   115.0          163.0   \n",
      "17  im10310.jpg    0  255  146.965239  7334.191842   114.0          167.0   \n",
      "18   im1381.jpg    0  255   48.823090  6289.437889     3.0           68.0   \n",
      "19   im1162.jpg    0  146   71.519796  1795.020071    83.0           67.0   \n",
      "\n",
      "    skewness   kurtosis  \n",
      "0   0.472671  -0.833381  \n",
      "1  -0.680801  -0.714601  \n",
      "2   1.572725   1.804983  \n",
      "3  -0.102691  -1.192997  \n",
      "4   0.903287  -0.776275  \n",
      "5   0.414995  -1.626790  \n",
      "6  -0.019944  -1.805794  \n",
      "7   1.643476   2.456193  \n",
      "8   0.599383  -0.590344  \n",
      "9   0.719143  -0.808969  \n",
      "10  0.444467  -1.243357  \n",
      "11  0.779352   0.060879  \n",
      "12  8.766101  93.398694  \n",
      "13  0.876639  -0.210068  \n",
      "14  0.522423  -1.152920  \n",
      "15  1.389652   1.252932  \n",
      "16  0.129003  -1.302493  \n",
      "17 -0.053230  -1.784711  \n",
      "18  1.602801   1.199688  \n",
      "19 -0.447736  -1.062634  }\n",
      "Fitted beta distribution with error=0.000400846281717057)\n",
      "Fitted gamma distribution with error=0.0006549473003031589)\n",
      "Fitted uniform distribution with error=0.0039460852251673745)\n",
      "Fitted norm distribution with error=0.0006085716965745816)\n",
      "Fitted beta distribution with error=0.002897411031764792)\n",
      "Fitted gamma distribution with error=0.0026443765342275207)\n",
      "Fitted uniform distribution with error=0.0025557377093435385)\n",
      "Fitted norm distribution with error=0.002530490073604713)\n",
      "Fitted beta distribution with error=0.019289145829464373)\n",
      "Fitted gamma distribution with error=0.007014222229134999)\n",
      "Fitted uniform distribution with error=0.020936801326397907)\n",
      "Fitted norm distribution with error=0.02201854024058872)\n",
      "Fitted beta distribution with error=0.0004008170891975438)\n",
      "Fitted gamma distribution with error=0.0004211543868851645)\n",
      "Fitted uniform distribution with error=0.0012053627046436635)\n",
      "Fitted norm distribution with error=0.0004090460508264656)\n",
      "Fitted beta distribution with error=0.010774106304671021)\n",
      "Fitted gamma distribution with error=0.012987407350312171)\n",
      "Fitted uniform distribution with error=0.012722036082729152)\n",
      "Fitted norm distribution with error=0.013252275072775373)\n",
      "Fitted beta distribution with error=0.0005252679180067985)\n",
      "Fitted gamma distribution with error=0.0005525515571943424)\n",
      "Fitted uniform distribution with error=0.0027585587423972005)\n",
      "Fitted norm distribution with error=0.0006798768532152225)\n",
      "Fitted beta distribution with error=0.0017785363727428844)\n",
      "Fitted gamma distribution with error=0.0024506159488694537)\n",
      "Fitted uniform distribution with error=0.0025295592208442754)\n",
      "Fitted norm distribution with error=0.002371994482809245)\n",
      "Fitted beta distribution with error=0.01142686035124948)\n"
     ]
    },
    {
     "name": "stdout",
     "output_type": "stream",
     "text": [
      "Fitted gamma distribution with error=0.009906672061378451)\n",
      "Fitted uniform distribution with error=0.0284343222039004)\n",
      "Fitted norm distribution with error=0.028948275954136963)\n",
      "Fitted beta distribution with error=0.0005147100273684915)\n",
      "Fitted gamma distribution with error=0.001057521454463265)\n",
      "Fitted uniform distribution with error=0.0025259274272090492)\n",
      "Fitted norm distribution with error=0.0009477571557796754)\n",
      "Fitted beta distribution with error=0.00876048832791266)\n",
      "Fitted gamma distribution with error=0.012471339317354554)\n",
      "Fitted uniform distribution with error=0.012709357232813145)\n",
      "Fitted norm distribution with error=0.013158872390948347)\n",
      "Fitted beta distribution with error=0.0016790016062177148)\n",
      "Fitted gamma distribution with error=0.0016902273747637407)\n",
      "Fitted uniform distribution with error=0.002998685737343196)\n",
      "Fitted norm distribution with error=0.002208681475379058)\n",
      "Fitted beta distribution with error=0.002697393454188334)\n",
      "Fitted gamma distribution with error=0.0019768937722273194)\n",
      "Fitted uniform distribution with error=0.002306472718583549)\n",
      "Fitted norm distribution with error=0.00190699003652667)\n"
     ]
    },
    {
     "name": "stderr",
     "output_type": "stream",
     "text": [
      "/usr/local/lib/python3.6/dist-packages/scipy/stats/_continuous_distns.py:515: RuntimeWarning:\n",
      "\n",
      "invalid value encountered in sqrt\n",
      "\n"
     ]
    },
    {
     "name": "stdout",
     "output_type": "stream",
     "text": [
      "Fitted beta distribution with error=0.039983809505819985)\n",
      "Fitted gamma distribution with error=0.012173187011381734)\n",
      "Fitted uniform distribution with error=0.07974652607087852)\n",
      "Fitted norm distribution with error=0.07746058802307372)\n",
      "Fitted beta distribution with error=0.0010177130228611218)\n",
      "Fitted gamma distribution with error=0.0013791688982731413)\n",
      "Fitted uniform distribution with error=0.0016840720278174855)\n",
      "Fitted norm distribution with error=0.0013549339118526542)\n",
      "Fitted beta distribution with error=0.008002299694797977)\n",
      "Fitted gamma distribution with error=0.01121249460174728)\n",
      "Fitted uniform distribution with error=0.01377158487519144)\n",
      "Fitted norm distribution with error=0.014547748360275514)\n"
     ]
    }
   ],
   "source": [
    "import os\n",
    "from collections import defaultdict\n",
    "\n",
    "import numpy as np\n",
    "import scipy as sp\n",
    "from scipy import misc, stats\n",
    "import pandas as pd\n",
    "from PIL import Image\n",
    "import matplotlib.pyplot as plt\n",
    "import plotly.plotly as py\n",
    "import plotly\n",
    "import seaborn as sns\n",
    "from fitter import Fitter\n",
    "\n",
    "\n",
    "\n",
    "%matplotlib inline\n",
    "\n",
    "DIRNAME = '/home/lankar/mirflickr'\n",
    "COLOR = {'red': 0,\n",
    "         'green': 1,\n",
    "         'blue': 2}  # RGB\n",
    "\n",
    "\n",
    "image_names = [x for x in os.listdir(DIRNAME)]\n",
    "\n",
    "data = {}\n",
    "for name, num in COLOR.items():\n",
    "    data[name] = pd.DataFrame()\n",
    "    for image_name in image_names[:20]:\n",
    "        image = np.array(Image.open(DIRNAME+'/'+image_name))\n",
    "        a = image[:, :, num].ravel()\n",
    "        d = {'name': image_name,\n",
    "             'min': np.min(a),\n",
    "             'max': np.max(a),\n",
    "             'mean': np.mean(a),\n",
    "             'var': np.var(a),\n",
    "             'median': np.median(a),\n",
    "             'interquartile': sp.stats.iqr(a),\n",
    "             'skewness': sp.stats.skew(a),\n",
    "             'kurtosis': sp.stats.kurtosis(a)}\n",
    "        data[name] = pd.concat([data[name], pd.DataFrame(pd.DataFrame(d, index=[0,]))], ignore_index=True)\n",
    "\n",
    "\n",
    "\n",
    "\n",
    "print(data)\n",
    "\n",
    "\n",
    "DISTRIBUTIONS = ['beta', 'gamma', 'uniform', 'norm']\n",
    "BINS = 256\n",
    "\n",
    "hist = {'red': defaultdict(int),\n",
    "        'green': defaultdict(int),\n",
    "        'blue': defaultdict(int),}\n",
    "\n",
    "for name, num in COLOR.items():\n",
    "    for image_name in image_names[:5]:\n",
    "        image = np.array(Image.open(os.path.join(DIRNAME, image_name)))\n",
    "        a = image[:, :, num].ravel()\n",
    "        f = Fitter(a, distributions=DISTRIBUTIONS, bins=BINS)\n",
    "        f.fit()\n",
    "        hist[name][f.df_errors['sumsquare_error'].idxmin()] += 1"
   ]
  },
  {
   "cell_type": "code",
   "execution_count": 20,
   "metadata": {},
   "outputs": [
    {
     "ename": "IndexError",
     "evalue": "too many indices for array",
     "output_type": "error",
     "traceback": [
      "\u001b[0;31m---------------------------------------------------------------------------\u001b[0m",
      "\u001b[0;31mIndexError\u001b[0m                                Traceback (most recent call last)",
      "\u001b[0;32m<ipython-input-20-7717ac17e9a5>\u001b[0m in \u001b[0;36m<module>\u001b[0;34m\u001b[0m\n\u001b[1;32m      1\u001b[0m \u001b[0mnum\u001b[0m\u001b[0;34m=\u001b[0m\u001b[0;36m1\u001b[0m\u001b[0;34m\u001b[0m\u001b[0;34m\u001b[0m\u001b[0m\n\u001b[1;32m      2\u001b[0m \u001b[0mimage\u001b[0m \u001b[0;34m=\u001b[0m \u001b[0mnp\u001b[0m\u001b[0;34m.\u001b[0m\u001b[0marray\u001b[0m\u001b[0;34m(\u001b[0m\u001b[0mimage_names\u001b[0m\u001b[0;34m[\u001b[0m\u001b[0;36m5\u001b[0m\u001b[0;34m]\u001b[0m\u001b[0;34m)\u001b[0m\u001b[0;34m\u001b[0m\u001b[0;34m\u001b[0m\u001b[0m\n\u001b[0;32m----> 3\u001b[0;31m \u001b[0ma\u001b[0m \u001b[0;34m=\u001b[0m \u001b[0mimage\u001b[0m\u001b[0;34m[\u001b[0m\u001b[0;34m:\u001b[0m\u001b[0;34m,\u001b[0m \u001b[0;34m:\u001b[0m\u001b[0;34m,\u001b[0m \u001b[0mnum\u001b[0m\u001b[0;34m]\u001b[0m\u001b[0;34m.\u001b[0m\u001b[0mravel\u001b[0m\u001b[0;34m(\u001b[0m\u001b[0;34m)\u001b[0m\u001b[0;34m\u001b[0m\u001b[0;34m\u001b[0m\u001b[0m\n\u001b[0m\u001b[1;32m      4\u001b[0m d = {'name': image_name,\n\u001b[1;32m      5\u001b[0m              \u001b[0;34m'mnimum'\u001b[0m\u001b[0;34m:\u001b[0m \u001b[0mnp\u001b[0m\u001b[0;34m.\u001b[0m\u001b[0mmin\u001b[0m\u001b[0;34m(\u001b[0m\u001b[0ma\u001b[0m\u001b[0;34m)\u001b[0m\u001b[0;34m,\u001b[0m\u001b[0;34m\u001b[0m\u001b[0;34m\u001b[0m\u001b[0m\n",
      "\u001b[0;31mIndexError\u001b[0m: too many indices for array"
     ]
    }
   ],
   "source": []
  },
  {
   "cell_type": "code",
   "execution_count": 3,
   "metadata": {},
   "outputs": [
    {
     "name": "stdout",
     "output_type": "stream",
     "text": [
      "['im13893.jpg', 'im13927.jpg', 'im13914.jpg', 'im13958.jpg', 'im13809.jpg', 'im13969.jpg', 'im13842.jpg', 'im14026.jpg', 'im13928.jpg', 'im13845.jpg', 'im13956.jpg', 'im13876.jpg', 'im13937.jpg', 'im13805.jpg', 'im13929.jpg', 'im13830.jpg', 'im13900.jpg', 'im13779.jpg', 'im13817.jpg', 'im13968.jpg', 'im13821.jpg', 'im13854.jpg', 'im13926.jpg', 'im13868.jpg', 'im13864.jpg', 'im13970.jpg', 'im13843.jpg', 'im13916.jpg', 'im13938.jpg', 'im13902.jpg', 'im13924.jpg', 'im13841.jpg', 'im13967.jpg', 'im13844.jpg', 'im13878.jpg', 'im13890.jpg', 'im13853.jpg', 'im13816.jpg', 'im13892.jpg', 'im13903.jpg', 'im13971.jpg', 'im13867.jpg', 'im13990.jpg', 'im13819.jpg', 'im13891.jpg', 'im13804.jpg', 'im13880.jpg', 'im14002.jpg', 'im13855.jpg', 'im13881.jpg', 'im13905.jpg', 'im13806.jpg', 'im13877.jpg', 'im13833.jpg', 'im13755.jpg', 'im13807.jpg', 'im13947.jpg', 'im13915.jpg', 'im13808.jpg', 'im13828.jpg', 'im13955.jpg', 'im13803.jpg', 'im13865.jpg', 'im13942.jpg', 'im13820.jpg', 'im13832.jpg', 'im13840.jpg', 'im13945.jpg', 'im13917.jpg', 'im13857.jpg', 'im13889.jpg', 'im13943.jpg', 'im13791.jpg', 'im13818.jpg', 'im13767.jpg', 'im13957.jpg', 'im13959.jpg', 'im13829.jpg', 'im13888.jpg', 'im13939.jpg', 'im13831.jpg', 'im13913.jpg', 'im13925.jpg', 'im13866.jpg', 'im13941.jpg', 'im13978.jpg', 'im13904.jpg', 'im13936.jpg', 'im13954.jpg', 'im13856.jpg', 'im13946.jpg', 'im13912.jpg', 'im14014.jpg', 'im13869.jpg', 'im13944.jpg', 'im13852.jpg', 'im13940.jpg', 'im13879.jpg', 'im13966.jpg', 'im13901.jpg']\n"
     ]
    }
   ],
   "source": [
    "import os\n",
    "image_names = [x for x in os.listdir(DIRNAME)]\n",
    "DIRNAME = '/home/lankar/mirflickr'\n",
    "a = [x for x in os.listdir(DIRNAME)]\n",
    "print(a)"
   ]
  },
  {
   "cell_type": "code",
   "execution_count": null,
   "metadata": {},
   "outputs": [],
   "source": [
    "data['blue'].head()"
   ]
  },
  {
   "cell_type": "code",
   "execution_count": null,
   "metadata": {},
   "outputs": [],
   "source": [
    "data['red'].head()"
   ]
  },
  {
   "cell_type": "code",
   "execution_count": null,
   "metadata": {},
   "outputs": [],
   "source": [
    "data['green'].head()"
   ]
  },
  {
   "cell_type": "code",
   "execution_count": null,
   "metadata": {},
   "outputs": [],
   "source": [
    "sns.boxplot(data=[data['blue']['max'], data['green']['max'], data['red']['max'],], palette=\"muted\")"
   ]
  },
  {
   "cell_type": "code",
   "execution_count": null,
   "metadata": {},
   "outputs": [],
   "source": [
    "sns.boxplot(data=[data['blue']['mean'], data['green']['mean'], data['red']['mean'],], palette=\"muted\")"
   ]
  },
  {
   "cell_type": "code",
   "execution_count": null,
   "metadata": {},
   "outputs": [],
   "source": [
    "\n",
    "sns.boxplot(data=[data['blue']['var'], data['green']['var'], data['red']['var'],], palette=\"muted\")"
   ]
  },
  {
   "cell_type": "code",
   "execution_count": null,
   "metadata": {},
   "outputs": [],
   "source": [
    "sns.boxplot(data=[data['blue']['median'], data['green']['median'], data['red']['median'],], palette=\"muted\")"
   ]
  },
  {
   "cell_type": "code",
   "execution_count": null,
   "metadata": {},
   "outputs": [],
   "source": [
    "sns.boxplot(data=[data['blue']['interquartile'], data['green']['interquartile'], data['red']['interquartile'],], palette=\"muted\")"
   ]
  },
  {
   "cell_type": "code",
   "execution_count": null,
   "metadata": {},
   "outputs": [],
   "source": [
    "sns.boxplot(data=[data['blue']['skewness'], data['green']['skewness'], data['red']['skewness'],], palette=\"muted\")"
   ]
  },
  {
   "cell_type": "code",
   "execution_count": 25,
   "metadata": {},
   "outputs": [
    {
     "data": {
      "text/plain": [
       "{'red': defaultdict(int, {'beta': 3, 'norm': 1, 'gamma': 1}),\n",
       " 'green': defaultdict(int, {'beta': 4, 'gamma': 1}),\n",
       " 'blue': defaultdict(int, {'beta': 3, 'norm': 1, 'gamma': 1})}"
      ]
     },
     "execution_count": 25,
     "metadata": {},
     "output_type": "execute_result"
    }
   ],
   "source": [
    "hist"
   ]
  },
  {
   "cell_type": "code",
   "execution_count": 26,
   "metadata": {},
   "outputs": [
    {
     "data": {
      "text/html": [
       "<div>\n",
       "<style scoped>\n",
       "    .dataframe tbody tr th:only-of-type {\n",
       "        vertical-align: middle;\n",
       "    }\n",
       "\n",
       "    .dataframe tbody tr th {\n",
       "        vertical-align: top;\n",
       "    }\n",
       "\n",
       "    .dataframe thead th {\n",
       "        text-align: right;\n",
       "    }\n",
       "</style>\n",
       "<table border=\"1\" class=\"dataframe\">\n",
       "  <thead>\n",
       "    <tr style=\"text-align: right;\">\n",
       "      <th></th>\n",
       "      <th>sumsquare_error</th>\n",
       "    </tr>\n",
       "  </thead>\n",
       "  <tbody>\n",
       "    <tr>\n",
       "      <th>beta</th>\n",
       "      <td>0.008002</td>\n",
       "    </tr>\n",
       "    <tr>\n",
       "      <th>gamma</th>\n",
       "      <td>0.011212</td>\n",
       "    </tr>\n",
       "    <tr>\n",
       "      <th>uniform</th>\n",
       "      <td>0.013772</td>\n",
       "    </tr>\n",
       "    <tr>\n",
       "      <th>norm</th>\n",
       "      <td>0.014548</td>\n",
       "    </tr>\n",
       "  </tbody>\n",
       "</table>\n",
       "</div>"
      ],
      "text/plain": [
       "         sumsquare_error\n",
       "beta            0.008002\n",
       "gamma           0.011212\n",
       "uniform         0.013772\n",
       "norm            0.014548"
      ]
     },
     "execution_count": 26,
     "metadata": {},
     "output_type": "execute_result"
    },
    {
     "data": {
      "image/png": "[encoded data removed]",
      "text/plain": [
       "<Figure size 432x288 with 1 Axes>"
      ]
     },
     "metadata": {
      "needs_background": "light"
     },
     "output_type": "display_data"
    }
   ],
   "source": [
    "f.summary()"
   ]
  },
  {
   "cell_type": "code",
   "execution_count": 7,
   "metadata": {},
   "outputs": [
    {
     "name": "stdout",
     "output_type": "stream",
     "text": [
      "im13969.jpg\n"
     ]
    },
    {
     "name": "stderr",
     "output_type": "stream",
     "text": [
      "/usr/local/lib/python3.6/dist-packages/scipy/optimize/minpack.py:162: RuntimeWarning:\n",
      "\n",
      "The iteration is not making good progress, as measured by the \n",
      "  improvement from the last ten iterations.\n",
      "\n"
     ]
    },
    {
     "name": "stdout",
     "output_type": "stream",
     "text": [
      "Fitted beta distribution with error=6.567785943450681e-05)\n",
      "Fitted gamma distribution with error=6.481430391479236e-05)\n",
      "Fitted uniform distribution with error=0.0028979694620065244)\n",
      "Fitted norm distribution with error=6.290255030908354e-05)\n"
     ]
    },
    {
     "data": {
      "text/html": [
       "<div>\n",
       "<style scoped>\n",
       "    .dataframe tbody tr th:only-of-type {\n",
       "        vertical-align: middle;\n",
       "    }\n",
       "\n",
       "    .dataframe tbody tr th {\n",
       "        vertical-align: top;\n",
       "    }\n",
       "\n",
       "    .dataframe thead th {\n",
       "        text-align: right;\n",
       "    }\n",
       "</style>\n",
       "<table border=\"1\" class=\"dataframe\">\n",
       "  <thead>\n",
       "    <tr style=\"text-align: right;\">\n",
       "      <th></th>\n",
       "      <th>sumsquare_error</th>\n",
       "    </tr>\n",
       "  </thead>\n",
       "  <tbody>\n",
       "    <tr>\n",
       "      <th>norm</th>\n",
       "      <td>0.000063</td>\n",
       "    </tr>\n",
       "    <tr>\n",
       "      <th>gamma</th>\n",
       "      <td>0.000065</td>\n",
       "    </tr>\n",
       "    <tr>\n",
       "      <th>beta</th>\n",
       "      <td>0.000066</td>\n",
       "    </tr>\n",
       "    <tr>\n",
       "      <th>uniform</th>\n",
       "      <td>0.002898</td>\n",
       "    </tr>\n",
       "  </tbody>\n",
       "</table>\n",
       "</div>"
      ],
      "text/plain": [
       "         sumsquare_error\n",
       "norm            0.000063\n",
       "gamma           0.000065\n",
       "beta            0.000066\n",
       "uniform         0.002898"
      ]
     },
     "execution_count": 7,
     "metadata": {},
     "output_type": "execute_result"
    },
    {
     "data": {
      "image/png": "[encoded data removed]",
      "text/plain": [
       "<Figure size 432x288 with 1 Axes>"
      ]
     },
     "metadata": {
      "needs_background": "light"
     },
     "output_type": "display_data"
    }
   ],
   "source": [
    "import os\n",
    "from collections import defaultdict\n",
    "\n",
    "import numpy as np\n",
    "import scipy as sp\n",
    "from scipy import misc, stats\n",
    "import pandas as pd\n",
    "from PIL import Image\n",
    "import matplotlib.pyplot as plt\n",
    "import plotly.plotly as py\n",
    "import plotly\n",
    "import seaborn as sns\n",
    "from fitter import Fitter\n",
    "num = 0\n",
    "print(image_names[5])\n",
    "image = np.array(Image.open(os.path.join(DIRNAME, image_names[5])))\n",
    "a =image[:, :, num].ravel()\n",
    "f = Fitter(a, distributions=DISTRIBUTIONS, bins=BINS)\n",
    "f.fit()\n",
    "f.summary()"
   ]
  },
  {
   "cell_type": "code",
   "execution_count": 11,
   "metadata": {},
   "outputs": [
    {
     "name": "stderr",
     "output_type": "stream",
     "text": [
      "/usr/local/lib/python3.6/dist-packages/scipy/stats/_continuous_distns.py:515: RuntimeWarning:\n",
      "\n",
      "invalid value encountered in sqrt\n",
      "\n",
      "/usr/local/lib/python3.6/dist-packages/scipy/optimize/minpack.py:162: RuntimeWarning:\n",
      "\n",
      "The iteration is not making good progress, as measured by the \n",
      "  improvement from the last ten iterations.\n",
      "\n"
     ]
    },
    {
     "name": "stdout",
     "output_type": "stream",
     "text": [
      "Fitted beta distribution with error=8.91259817400299e-05)\n",
      "Fitted gamma distribution with error=0.00011452427198149444)\n",
      "Fitted uniform distribution with error=0.003948029161367345)\n",
      "Fitted norm distribution with error=9.847544320254291e-05)\n"
     ]
    },
    {
     "data": {
      "text/html": [
       "<div>\n",
       "<style scoped>\n",
       "    .dataframe tbody tr th:only-of-type {\n",
       "        vertical-align: middle;\n",
       "    }\n",
       "\n",
       "    .dataframe tbody tr th {\n",
       "        vertical-align: top;\n",
       "    }\n",
       "\n",
       "    .dataframe thead th {\n",
       "        text-align: right;\n",
       "    }\n",
       "</style>\n",
       "<table border=\"1\" class=\"dataframe\">\n",
       "  <thead>\n",
       "    <tr style=\"text-align: right;\">\n",
       "      <th></th>\n",
       "      <th>sumsquare_error</th>\n",
       "    </tr>\n",
       "  </thead>\n",
       "  <tbody>\n",
       "    <tr>\n",
       "      <th>beta</th>\n",
       "      <td>0.000089</td>\n",
       "    </tr>\n",
       "    <tr>\n",
       "      <th>norm</th>\n",
       "      <td>0.000098</td>\n",
       "    </tr>\n",
       "    <tr>\n",
       "      <th>gamma</th>\n",
       "      <td>0.000115</td>\n",
       "    </tr>\n",
       "    <tr>\n",
       "      <th>uniform</th>\n",
       "      <td>0.003948</td>\n",
       "    </tr>\n",
       "  </tbody>\n",
       "</table>\n",
       "</div>"
      ],
      "text/plain": [
       "         sumsquare_error\n",
       "beta            0.000089\n",
       "norm            0.000098\n",
       "gamma           0.000115\n",
       "uniform         0.003948"
      ]
     },
     "execution_count": 11,
     "metadata": {},
     "output_type": "execute_result"
    },
    {
     "data": {
      "image/png": "[encoded data removed]",
      "text/plain": [
       "<Figure size 432x288 with 1 Axes>"
      ]
     },
     "metadata": {
      "needs_background": "light"
     },
     "output_type": "display_data"
    }
   ],
   "source": [
    "num = 1\n",
    "\n",
    "image = np.array(Image.open(os.path.join(DIRNAME, image_names[5])))\n",
    "a =image[:, :, 2].ravel()\n",
    "f = Fitter(a, distributions=DISTRIBUTIONS, bins=BINS)\n",
    "f.fit()\n",
    "f.summary()"
   ]
  },
  {
   "cell_type": "code",
   "execution_count": 12,
   "metadata": {},
   "outputs": [
    {
     "name": "stderr",
     "output_type": "stream",
     "text": [
      "/usr/local/lib/python3.6/dist-packages/scipy/stats/_continuous_distns.py:515: RuntimeWarning:\n",
      "\n",
      "invalid value encountered in sqrt\n",
      "\n",
      "/usr/local/lib/python3.6/dist-packages/scipy/optimize/minpack.py:162: RuntimeWarning:\n",
      "\n",
      "The iteration is not making good progress, as measured by the \n",
      "  improvement from the last ten iterations.\n",
      "\n"
     ]
    },
    {
     "name": "stdout",
     "output_type": "stream",
     "text": [
      "Fitted beta distribution with error=8.91259817400299e-05)\n",
      "Fitted gamma distribution with error=0.00011452427198149444)\n",
      "Fitted uniform distribution with error=0.003948029161367345)\n",
      "Fitted norm distribution with error=9.847544320254291e-05)\n"
     ]
    },
    {
     "data": {
      "text/html": [
       "<div>\n",
       "<style scoped>\n",
       "    .dataframe tbody tr th:only-of-type {\n",
       "        vertical-align: middle;\n",
       "    }\n",
       "\n",
       "    .dataframe tbody tr th {\n",
       "        vertical-align: top;\n",
       "    }\n",
       "\n",
       "    .dataframe thead th {\n",
       "        text-align: right;\n",
       "    }\n",
       "</style>\n",
       "<table border=\"1\" class=\"dataframe\">\n",
       "  <thead>\n",
       "    <tr style=\"text-align: right;\">\n",
       "      <th></th>\n",
       "      <th>sumsquare_error</th>\n",
       "    </tr>\n",
       "  </thead>\n",
       "  <tbody>\n",
       "    <tr>\n",
       "      <th>beta</th>\n",
       "      <td>0.000089</td>\n",
       "    </tr>\n",
       "    <tr>\n",
       "      <th>norm</th>\n",
       "      <td>0.000098</td>\n",
       "    </tr>\n",
       "    <tr>\n",
       "      <th>gamma</th>\n",
       "      <td>0.000115</td>\n",
       "    </tr>\n",
       "    <tr>\n",
       "      <th>uniform</th>\n",
       "      <td>0.003948</td>\n",
       "    </tr>\n",
       "  </tbody>\n",
       "</table>\n",
       "</div>"
      ],
      "text/plain": [
       "         sumsquare_error\n",
       "beta            0.000089\n",
       "norm            0.000098\n",
       "gamma           0.000115\n",
       "uniform         0.003948"
      ]
     },
     "execution_count": 12,
     "metadata": {},
     "output_type": "execute_result"
    },
    {
     "data": {
      "image/png": "[encoded data removed]",
      "text/plain": [
       "<Figure size 432x288 with 1 Axes>"
      ]
     },
     "metadata": {
      "needs_background": "light"
     },
     "output_type": "display_data"
    }
   ],
   "source": [
    "num = 0\n",
    "\n",
    "image = np.array(Image.open(os.path.join(DIRNAME, image_names[5])))\n",
    "a =image[:, :, 2].ravel()\n",
    "f = Fitter(a, distributions=DISTRIBUTIONS, bins=BINS)\n",
    "f.fit()\n",
    "f.summary()"
   ]
  },
  {
   "cell_type": "code",
   "execution_count": 21,
   "metadata": {},
   "outputs": [
    {
     "name": "stdout",
     "output_type": "stream",
     "text": [
      "Fitted beta distribution with error=0.012764959715629147)\n",
      "Fitted gamma distribution with error=0.006805615947821292)\n",
      "Fitted uniform distribution with error=0.010079849823391449)\n",
      "Fitted norm distribution with error=0.006365895891036073)\n"
     ]
    },
    {
     "data": {
      "text/html": [
       "<div>\n",
       "<style scoped>\n",
       "    .dataframe tbody tr th:only-of-type {\n",
       "        vertical-align: middle;\n",
       "    }\n",
       "\n",
       "    .dataframe tbody tr th {\n",
       "        vertical-align: top;\n",
       "    }\n",
       "\n",
       "    .dataframe thead th {\n",
       "        text-align: right;\n",
       "    }\n",
       "</style>\n",
       "<table border=\"1\" class=\"dataframe\">\n",
       "  <thead>\n",
       "    <tr style=\"text-align: right;\">\n",
       "      <th></th>\n",
       "      <th>sumsquare_error</th>\n",
       "    </tr>\n",
       "  </thead>\n",
       "  <tbody>\n",
       "    <tr>\n",
       "      <th>norm</th>\n",
       "      <td>0.006366</td>\n",
       "    </tr>\n",
       "    <tr>\n",
       "      <th>gamma</th>\n",
       "      <td>0.006806</td>\n",
       "    </tr>\n",
       "    <tr>\n",
       "      <th>uniform</th>\n",
       "      <td>0.010080</td>\n",
       "    </tr>\n",
       "    <tr>\n",
       "      <th>beta</th>\n",
       "      <td>0.012765</td>\n",
       "    </tr>\n",
       "  </tbody>\n",
       "</table>\n",
       "</div>"
      ],
      "text/plain": [
       "         sumsquare_error\n",
       "norm            0.006366\n",
       "gamma           0.006806\n",
       "uniform         0.010080\n",
       "beta            0.012765"
      ]
     },
     "execution_count": 21,
     "metadata": {},
     "output_type": "execute_result"
    },
    {
     "data": {
      "image/png": "[encoded data removed]",
      "text/plain": [
       "<Figure size 432x288 with 1 Axes>"
      ]
     },
     "metadata": {
      "needs_background": "light"
     },
     "output_type": "display_data"
    }
   ],
   "source": [
    "num = 1\n",
    "\n",
    "image = np.array(Image.open(os.path.join(DIRNAME, image_names[1])))\n",
    "a =image[:, :, num].ravel()\n",
    "f = Fitter(a, distributions=DISTRIBUTIONS, bins=BINS)\n",
    "f.fit()\n",
    "f.summary()"
   ]
  },
  {
   "cell_type": "code",
   "execution_count": 22,
   "metadata": {},
   "outputs": [
    {
     "name": "stderr",
     "output_type": "stream",
     "text": [
      "/usr/local/lib/python3.6/dist-packages/scipy/stats/_continuous_distns.py:515: RuntimeWarning:\n",
      "\n",
      "invalid value encountered in sqrt\n",
      "\n"
     ]
    },
    {
     "name": "stdout",
     "output_type": "stream",
     "text": [
      "Fitted beta distribution with error=0.01469597161505565)\n",
      "Fitted gamma distribution with error=0.07966774678521454)\n",
      "Fitted uniform distribution with error=0.010738833498323618)\n",
      "Fitted norm distribution with error=0.00654631840596873)\n"
     ]
    },
    {
     "data": {
      "text/html": [
       "<div>\n",
       "<style scoped>\n",
       "    .dataframe tbody tr th:only-of-type {\n",
       "        vertical-align: middle;\n",
       "    }\n",
       "\n",
       "    .dataframe tbody tr th {\n",
       "        vertical-align: top;\n",
       "    }\n",
       "\n",
       "    .dataframe thead th {\n",
       "        text-align: right;\n",
       "    }\n",
       "</style>\n",
       "<table border=\"1\" class=\"dataframe\">\n",
       "  <thead>\n",
       "    <tr style=\"text-align: right;\">\n",
       "      <th></th>\n",
       "      <th>sumsquare_error</th>\n",
       "    </tr>\n",
       "  </thead>\n",
       "  <tbody>\n",
       "    <tr>\n",
       "      <th>norm</th>\n",
       "      <td>0.006546</td>\n",
       "    </tr>\n",
       "    <tr>\n",
       "      <th>uniform</th>\n",
       "      <td>0.010739</td>\n",
       "    </tr>\n",
       "    <tr>\n",
       "      <th>beta</th>\n",
       "      <td>0.014696</td>\n",
       "    </tr>\n",
       "    <tr>\n",
       "      <th>gamma</th>\n",
       "      <td>0.079668</td>\n",
       "    </tr>\n",
       "  </tbody>\n",
       "</table>\n",
       "</div>"
      ],
      "text/plain": [
       "         sumsquare_error\n",
       "norm            0.006546\n",
       "uniform         0.010739\n",
       "beta            0.014696\n",
       "gamma           0.079668"
      ]
     },
     "execution_count": 22,
     "metadata": {},
     "output_type": "execute_result"
    },
    {
     "data": {
      "image/png": "[encoded data removed]",
      "text/plain": [
       "<Figure size 432x288 with 1 Axes>"
      ]
     },
     "metadata": {
      "needs_background": "light"
     },
     "output_type": "display_data"
    }
   ],
   "source": [
    "num = 2\n",
    "\n",
    "image = np.array(Image.open(os.path.join(DIRNAME, image_names[1])))\n",
    "a =image[:, :, num].ravel()\n",
    "f = Fitter(a, distributions=DISTRIBUTIONS, bins=BINS)\n",
    "f.fit()\n",
    "f.summary()"
   ]
  },
  {
   "cell_type": "code",
   "execution_count": 23,
   "metadata": {},
   "outputs": [
    {
     "name": "stderr",
     "output_type": "stream",
     "text": [
      "/usr/local/lib/python3.6/dist-packages/scipy/stats/_continuous_distns.py:515: RuntimeWarning:\n",
      "\n",
      "invalid value encountered in sqrt\n",
      "\n",
      "/usr/local/lib/python3.6/dist-packages/scipy/optimize/minpack.py:162: RuntimeWarning:\n",
      "\n",
      "The iteration is not making good progress, as measured by the \n",
      "  improvement from the last ten iterations.\n",
      "\n"
     ]
    },
    {
     "name": "stdout",
     "output_type": "stream",
     "text": [
      "Fitted beta distribution with error=0.0030665603506496815)\n",
      "Fitted gamma distribution with error=0.005438643056616864)\n",
      "Fitted uniform distribution with error=0.010789866234117103)\n",
      "Fitted norm distribution with error=0.004625015567431328)\n"
     ]
    },
    {
     "data": {
      "text/html": [
       "<div>\n",
       "<style scoped>\n",
       "    .dataframe tbody tr th:only-of-type {\n",
       "        vertical-align: middle;\n",
       "    }\n",
       "\n",
       "    .dataframe tbody tr th {\n",
       "        vertical-align: top;\n",
       "    }\n",
       "\n",
       "    .dataframe thead th {\n",
       "        text-align: right;\n",
       "    }\n",
       "</style>\n",
       "<table border=\"1\" class=\"dataframe\">\n",
       "  <thead>\n",
       "    <tr style=\"text-align: right;\">\n",
       "      <th></th>\n",
       "      <th>sumsquare_error</th>\n",
       "    </tr>\n",
       "  </thead>\n",
       "  <tbody>\n",
       "    <tr>\n",
       "      <th>beta</th>\n",
       "      <td>0.003067</td>\n",
       "    </tr>\n",
       "    <tr>\n",
       "      <th>norm</th>\n",
       "      <td>0.004625</td>\n",
       "    </tr>\n",
       "    <tr>\n",
       "      <th>gamma</th>\n",
       "      <td>0.005439</td>\n",
       "    </tr>\n",
       "    <tr>\n",
       "      <th>uniform</th>\n",
       "      <td>0.010790</td>\n",
       "    </tr>\n",
       "  </tbody>\n",
       "</table>\n",
       "</div>"
      ],
      "text/plain": [
       "         sumsquare_error\n",
       "beta            0.003067\n",
       "norm            0.004625\n",
       "gamma           0.005439\n",
       "uniform         0.010790"
      ]
     },
     "execution_count": 23,
     "metadata": {},
     "output_type": "execute_result"
    },
    {
     "data": {
      "image/png": "[encoded data removed]",
      "text/plain": [
       "<Figure size 432x288 with 1 Axes>"
      ]
     },
     "metadata": {
      "needs_background": "light"
     },
     "output_type": "display_data"
    }
   ],
   "source": [
    "num = 0\n",
    "\n",
    "image = np.array(Image.open(os.path.join(DIRNAME, image_names[1])))\n",
    "a =image[:, :, num].ravel()\n",
    "f = Fitter(a, distributions=DISTRIBUTIONS, bins=BINS)\n",
    "f.fit()\n",
    "f.summary()"
   ]
  },
  {
   "cell_type": "code",
   "execution_count": null,
   "metadata": {},
   "outputs": [],
   "source": [
    "num = 1\n",
    "\n",
    "image = np.array(Image.open(os.path.join(DIRNAME, image_names[0])))\n",
    "a =image[:, :, num].ravel()\n",
    "f = Fitter(a, distributions=DISTRIBUTIONS, bins=BINS)\n",
    "f.fit()\n",
    "f.summary()"
   ]
  },
  {
   "cell_type": "code",
   "execution_count": null,
   "metadata": {},
   "outputs": [],
   "source": [
    "num = 1\n",
    "\n",
    "image = np.array(Image.open(os.path.join(DIRNAME, image_names[1])))\n",
    "a =image[:, :, num].ravel()\n",
    "f = Fitter(a, distributions=DISTRIBUTIONS, bins=BINS)\n",
    "f.fit()\n",
    "f.summary()"
   ]
  },
  {
   "cell_type": "code",
   "execution_count": null,
   "metadata": {},
   "outputs": [],
   "source": [
    "num = 1\n",
    "\n",
    "image = np.array(Image.open(os.path.join(DIRNAME, image_names[2])))\n",
    "a =image[:, :, num].ravel()\n",
    "f = Fitter(a, distributions=DISTRIBUTIONS, bins=BINS)\n",
    "f.fit()\n",
    "f.summary()"
   ]
  },
  {
   "cell_type": "code",
   "execution_count": null,
   "metadata": {},
   "outputs": [],
   "source": [
    "num = 1\n",
    "\n",
    "image = np.array(Image.open(os.path.join(DIRNAME, image_names[3])))\n",
    "a =image[:, :, num].ravel()\n",
    "f = Fitter(a, distributions=DISTRIBUTIONS, bins=BINS)\n",
    "f.fit()\n",
    "f.summary()"
   ]
  },
  {
   "cell_type": "code",
   "execution_count": null,
   "metadata": {},
   "outputs": [],
   "source": [
    "num = 1\n",
    "\n",
    "image = np.array(Image.open(os.path.join(DIRNAME, image_names[4])))\n",
    "a =image[:, :, num].ravel()\n",
    "f = Fitter(a, distributions=DISTRIBUTIONS, bins=BINS)\n",
    "f.fit()\n",
    "f.summary()"
   ]
  },
  {
   "cell_type": "code",
   "execution_count": null,
   "metadata": {},
   "outputs": [],
   "source": [
    "num = 1\n",
    "\n",
    "image = np.array(Image.open(os.path.join(DIRNAME, image_names[5])))\n",
    "a =image[:, :, num].ravel()\n",
    "f = Fitter(a, distributions=DISTRIBUTIONS, bins=BINS)\n",
    "f.fit()\n",
    "f.summary()"
   ]
  },
  {
   "cell_type": "code",
   "execution_count": null,
   "metadata": {},
   "outputs": [],
   "source": [
    "num = 2\n",
    "\n",
    "image = np.array(Image.open(os.path.join(DIRNAME, image_names[0])))\n",
    "a =image[:, :, num].ravel()\n",
    "f = Fitter(a, distributions=DISTRIBUTIONS, bins=BINS)\n",
    "f.fit()\n",
    "f.summary()"
   ]
  },
  {
   "cell_type": "code",
   "execution_count": 59,
   "metadata": {},
   "outputs": [
    {
     "name": "stderr",
     "output_type": "stream",
     "text": [
      "/usr/local/lib/python3.6/dist-packages/scipy/stats/_continuous_distns.py:515: RuntimeWarning:\n",
      "\n",
      "invalid value encountered in sqrt\n",
      "\n"
     ]
    },
    {
     "name": "stdout",
     "output_type": "stream",
     "text": [
      "Fitted beta distribution with error=0.01469597161505565)\n",
      "Fitted gamma distribution with error=0.07966774678521454)\n",
      "Fitted uniform distribution with error=0.010738833498323618)\n",
      "Fitted norm distribution with error=0.00654631840596873)\n"
     ]
    },
    {
     "data": {
      "text/html": [
       "<div>\n",
       "<style scoped>\n",
       "    .dataframe tbody tr th:only-of-type {\n",
       "        vertical-align: middle;\n",
       "    }\n",
       "\n",
       "    .dataframe tbody tr th {\n",
       "        vertical-align: top;\n",
       "    }\n",
       "\n",
       "    .dataframe thead th {\n",
       "        text-align: right;\n",
       "    }\n",
       "</style>\n",
       "<table border=\"1\" class=\"dataframe\">\n",
       "  <thead>\n",
       "    <tr style=\"text-align: right;\">\n",
       "      <th></th>\n",
       "      <th>sumsquare_error</th>\n",
       "    </tr>\n",
       "  </thead>\n",
       "  <tbody>\n",
       "    <tr>\n",
       "      <th>norm</th>\n",
       "      <td>0.006546</td>\n",
       "    </tr>\n",
       "    <tr>\n",
       "      <th>uniform</th>\n",
       "      <td>0.010739</td>\n",
       "    </tr>\n",
       "    <tr>\n",
       "      <th>beta</th>\n",
       "      <td>0.014696</td>\n",
       "    </tr>\n",
       "    <tr>\n",
       "      <th>gamma</th>\n",
       "      <td>0.079668</td>\n",
       "    </tr>\n",
       "  </tbody>\n",
       "</table>\n",
       "</div>"
      ],
      "text/plain": [
       "         sumsquare_error\n",
       "norm            0.006546\n",
       "uniform         0.010739\n",
       "beta            0.014696\n",
       "gamma           0.079668"
      ]
     },
     "execution_count": 59,
     "metadata": {},
     "output_type": "execute_result"
    },
    {
     "data": {
      "image/png": "[encoded data removed]",
      "text/plain": [
       "<Figure size 432x288 with 1 Axes>"
      ]
     },
     "metadata": {
      "needs_background": "light"
     },
     "output_type": "display_data"
    }
   ],
   "source": [
    "num = 2\n",
    "\n",
    "image = np.array(Image.open(os.path.join(DIRNAME, image_names[1])))\n",
    "a =image[:, :, num].ravel()\n",
    "f = Fitter(a, distributions=DISTRIBUTIONS, bins=BINS)\n",
    "f.fit()\n",
    "f.summary()\n"
   ]
  },
  {
   "cell_type": "code",
   "execution_count": 60,
   "metadata": {},
   "outputs": [
    {
     "name": "stderr",
     "output_type": "stream",
     "text": [
      "/usr/local/lib/python3.6/dist-packages/scipy/stats/_continuous_distns.py:515: RuntimeWarning:\n",
      "\n",
      "invalid value encountered in sqrt\n",
      "\n"
     ]
    },
    {
     "name": "stdout",
     "output_type": "stream",
     "text": [
      "Fitted beta distribution with error=0.012764959715629147)\n",
      "Fitted gamma distribution with error=0.006805615947821292)\n",
      "Fitted uniform distribution with error=0.010079849823391449)\n",
      "Fitted norm distribution with error=0.006365895891036073)\n"
     ]
    },
    {
     "data": {
      "text/html": [
       "<div>\n",
       "<style scoped>\n",
       "    .dataframe tbody tr th:only-of-type {\n",
       "        vertical-align: middle;\n",
       "    }\n",
       "\n",
       "    .dataframe tbody tr th {\n",
       "        vertical-align: top;\n",
       "    }\n",
       "\n",
       "    .dataframe thead th {\n",
       "        text-align: right;\n",
       "    }\n",
       "</style>\n",
       "<table border=\"1\" class=\"dataframe\">\n",
       "  <thead>\n",
       "    <tr style=\"text-align: right;\">\n",
       "      <th></th>\n",
       "      <th>sumsquare_error</th>\n",
       "    </tr>\n",
       "  </thead>\n",
       "  <tbody>\n",
       "    <tr>\n",
       "      <th>norm</th>\n",
       "      <td>0.006366</td>\n",
       "    </tr>\n",
       "    <tr>\n",
       "      <th>gamma</th>\n",
       "      <td>0.006806</td>\n",
       "    </tr>\n",
       "    <tr>\n",
       "      <th>uniform</th>\n",
       "      <td>0.010080</td>\n",
       "    </tr>\n",
       "    <tr>\n",
       "      <th>beta</th>\n",
       "      <td>0.012765</td>\n",
       "    </tr>\n",
       "  </tbody>\n",
       "</table>\n",
       "</div>"
      ],
      "text/plain": [
       "         sumsquare_error\n",
       "norm            0.006366\n",
       "gamma           0.006806\n",
       "uniform         0.010080\n",
       "beta            0.012765"
      ]
     },
     "execution_count": 60,
     "metadata": {},
     "output_type": "execute_result"
    },
    {
     "data": {
      "image/png": "[encoded data removed]",
      "text/plain": [
       "<Figure size 432x288 with 1 Axes>"
      ]
     },
     "metadata": {
      "needs_background": "light"
     },
     "output_type": "display_data"
    }
   ],
   "source": [
    "image = np.array(Image.open(os.path.join(DIRNAME, image_names[1])))\n",
    "a =image[:, :, 1].ravel()\n",
    "f = Fitter(a, distributions=DISTRIBUTIONS, bins=BINS)\n",
    "f.fit()\n",
    "f.summary()"
   ]
  },
  {
   "cell_type": "code",
   "execution_count": 61,
   "metadata": {},
   "outputs": [
    {
     "name": "stderr",
     "output_type": "stream",
     "text": [
      "/usr/local/lib/python3.6/dist-packages/scipy/stats/_continuous_distns.py:515: RuntimeWarning:\n",
      "\n",
      "invalid value encountered in sqrt\n",
      "\n",
      "/usr/local/lib/python3.6/dist-packages/scipy/optimize/minpack.py:162: RuntimeWarning:\n",
      "\n",
      "The iteration is not making good progress, as measured by the \n",
      "  improvement from the last ten iterations.\n",
      "\n"
     ]
    },
    {
     "name": "stdout",
     "output_type": "stream",
     "text": [
      "Fitted beta distribution with error=0.0030665603506496815)\n",
      "Fitted gamma distribution with error=0.005438643056616864)\n",
      "Fitted uniform distribution with error=0.010789866234117103)\n",
      "Fitted norm distribution with error=0.004625015567431328)\n"
     ]
    },
    {
     "data": {
      "text/html": [
       "<div>\n",
       "<style scoped>\n",
       "    .dataframe tbody tr th:only-of-type {\n",
       "        vertical-align: middle;\n",
       "    }\n",
       "\n",
       "    .dataframe tbody tr th {\n",
       "        vertical-align: top;\n",
       "    }\n",
       "\n",
       "    .dataframe thead th {\n",
       "        text-align: right;\n",
       "    }\n",
       "</style>\n",
       "<table border=\"1\" class=\"dataframe\">\n",
       "  <thead>\n",
       "    <tr style=\"text-align: right;\">\n",
       "      <th></th>\n",
       "      <th>sumsquare_error</th>\n",
       "    </tr>\n",
       "  </thead>\n",
       "  <tbody>\n",
       "    <tr>\n",
       "      <th>beta</th>\n",
       "      <td>0.003067</td>\n",
       "    </tr>\n",
       "    <tr>\n",
       "      <th>norm</th>\n",
       "      <td>0.004625</td>\n",
       "    </tr>\n",
       "    <tr>\n",
       "      <th>gamma</th>\n",
       "      <td>0.005439</td>\n",
       "    </tr>\n",
       "    <tr>\n",
       "      <th>uniform</th>\n",
       "      <td>0.010790</td>\n",
       "    </tr>\n",
       "  </tbody>\n",
       "</table>\n",
       "</div>"
      ],
      "text/plain": [
       "         sumsquare_error\n",
       "beta            0.003067\n",
       "norm            0.004625\n",
       "gamma           0.005439\n",
       "uniform         0.010790"
      ]
     },
     "execution_count": 61,
     "metadata": {},
     "output_type": "execute_result"
    },
    {
     "data": {
      "image/png": "[encoded data removed]",
      "text/plain": [
       "<Figure size 432x288 with 1 Axes>"
      ]
     },
     "metadata": {
      "needs_background": "light"
     },
     "output_type": "display_data"
    }
   ],
   "source": [
    "image = np.array(Image.open(os.path.join(DIRNAME, image_names[1])))\n",
    "a =image[:, :, 0].ravel()\n",
    "f = Fitter(a, distributions=DISTRIBUTIONS, bins=BINS)\n",
    "f.fit()\n",
    "f.summary()"
   ]
  },
  {
   "cell_type": "code",
   "execution_count": 30,
   "metadata": {},
   "outputs": [
    {
     "name": "stdout",
     "output_type": "stream",
     "text": [
      "Fitted beta distribution with error=0.0015322491675686667)\n",
      "Fitted gamma distribution with error=0.002656546736149704)\n",
      "Fitted uniform distribution with error=0.002083986674783668)\n",
      "Fitted norm distribution with error=0.0026572729401291117)\n"
     ]
    },
    {
     "data": {
      "text/html": [
       "<div>\n",
       "<style scoped>\n",
       "    .dataframe tbody tr th:only-of-type {\n",
       "        vertical-align: middle;\n",
       "    }\n",
       "\n",
       "    .dataframe tbody tr th {\n",
       "        vertical-align: top;\n",
       "    }\n",
       "\n",
       "    .dataframe thead th {\n",
       "        text-align: right;\n",
       "    }\n",
       "</style>\n",
       "<table border=\"1\" class=\"dataframe\">\n",
       "  <thead>\n",
       "    <tr style=\"text-align: right;\">\n",
       "      <th></th>\n",
       "      <th>sumsquare_error</th>\n",
       "    </tr>\n",
       "  </thead>\n",
       "  <tbody>\n",
       "    <tr>\n",
       "      <th>beta</th>\n",
       "      <td>0.001532</td>\n",
       "    </tr>\n",
       "    <tr>\n",
       "      <th>uniform</th>\n",
       "      <td>0.002084</td>\n",
       "    </tr>\n",
       "    <tr>\n",
       "      <th>gamma</th>\n",
       "      <td>0.002657</td>\n",
       "    </tr>\n",
       "    <tr>\n",
       "      <th>norm</th>\n",
       "      <td>0.002657</td>\n",
       "    </tr>\n",
       "  </tbody>\n",
       "</table>\n",
       "</div>"
      ],
      "text/plain": [
       "         sumsquare_error\n",
       "beta            0.001532\n",
       "uniform         0.002084\n",
       "gamma           0.002657\n",
       "norm            0.002657"
      ]
     },
     "execution_count": 30,
     "metadata": {},
     "output_type": "execute_result"
    },
    {
     "data": {
      "image/png": "[encoded data removed]",
      "text/plain": [
       "<Figure size 432x288 with 1 Axes>"
      ]
     },
     "metadata": {
      "needs_background": "light"
     },
     "output_type": "display_data"
    }
   ],
   "source": [
    "num = 2\n",
    "\n",
    "image = np.array(Image.open(os.path.join(DIRNAME, image_names[2])))\n",
    "a =image[:, :, num].ravel()\n",
    "f = Fitter(a, distributions=DISTRIBUTIONS, bins=BINS)\n",
    "f.fit()\n",
    "f.summary()"
   ]
  },
  {
   "cell_type": "code",
   "execution_count": 31,
   "metadata": {},
   "outputs": [
    {
     "name": "stdout",
     "output_type": "stream",
     "text": [
      "Fitted beta distribution with error=0.0015322491675686667)\n",
      "Fitted gamma distribution with error=0.002656546736149704)\n",
      "Fitted uniform distribution with error=0.002083986674783668)\n",
      "Fitted norm distribution with error=0.0026572729401291117)\n"
     ]
    },
    {
     "data": {
      "text/html": [
       "<div>\n",
       "<style scoped>\n",
       "    .dataframe tbody tr th:only-of-type {\n",
       "        vertical-align: middle;\n",
       "    }\n",
       "\n",
       "    .dataframe tbody tr th {\n",
       "        vertical-align: top;\n",
       "    }\n",
       "\n",
       "    .dataframe thead th {\n",
       "        text-align: right;\n",
       "    }\n",
       "</style>\n",
       "<table border=\"1\" class=\"dataframe\">\n",
       "  <thead>\n",
       "    <tr style=\"text-align: right;\">\n",
       "      <th></th>\n",
       "      <th>sumsquare_error</th>\n",
       "    </tr>\n",
       "  </thead>\n",
       "  <tbody>\n",
       "    <tr>\n",
       "      <th>beta</th>\n",
       "      <td>0.001532</td>\n",
       "    </tr>\n",
       "    <tr>\n",
       "      <th>uniform</th>\n",
       "      <td>0.002084</td>\n",
       "    </tr>\n",
       "    <tr>\n",
       "      <th>gamma</th>\n",
       "      <td>0.002657</td>\n",
       "    </tr>\n",
       "    <tr>\n",
       "      <th>norm</th>\n",
       "      <td>0.002657</td>\n",
       "    </tr>\n",
       "  </tbody>\n",
       "</table>\n",
       "</div>"
      ],
      "text/plain": [
       "         sumsquare_error\n",
       "beta            0.001532\n",
       "uniform         0.002084\n",
       "gamma           0.002657\n",
       "norm            0.002657"
      ]
     },
     "execution_count": 31,
     "metadata": {},
     "output_type": "execute_result"
    },
    {
     "data": {
      "image/png": "[encoded data removed]",
      "text/plain": [
       "<Figure size 432x288 with 1 Axes>"
      ]
     },
     "metadata": {
      "needs_background": "light"
     },
     "output_type": "display_data"
    }
   ],
   "source": [
    "num = 2\n",
    "\n",
    "image = np.array(Image.open(os.path.join(DIRNAME, image_names[2])))\n",
    "a =image[:, :, num].ravel()\n",
    "f = Fitter(a, distributions=DISTRIBUTIONS, bins=BINS)\n",
    "f.fit()\n",
    "f.summary()"
   ]
  },
  {
   "cell_type": "code",
   "execution_count": 32,
   "metadata": {},
   "outputs": [
    {
     "name": "stderr",
     "output_type": "stream",
     "text": [
      "/usr/local/lib/python3.6/dist-packages/scipy/stats/_continuous_distns.py:515: RuntimeWarning:\n",
      "\n",
      "invalid value encountered in sqrt\n",
      "\n"
     ]
    },
    {
     "name": "stdout",
     "output_type": "stream",
     "text": [
      "Fitted beta distribution with error=0.005659625832513801)\n",
      "Fitted gamma distribution with error=0.0011505522704378566)\n",
      "Fitted uniform distribution with error=0.025738296847294773)\n",
      "Fitted norm distribution with error=0.02437120158658437)\n"
     ]
    },
    {
     "data": {
      "text/html": [
       "<div>\n",
       "<style scoped>\n",
       "    .dataframe tbody tr th:only-of-type {\n",
       "        vertical-align: middle;\n",
       "    }\n",
       "\n",
       "    .dataframe tbody tr th {\n",
       "        vertical-align: top;\n",
       "    }\n",
       "\n",
       "    .dataframe thead th {\n",
       "        text-align: right;\n",
       "    }\n",
       "</style>\n",
       "<table border=\"1\" class=\"dataframe\">\n",
       "  <thead>\n",
       "    <tr style=\"text-align: right;\">\n",
       "      <th></th>\n",
       "      <th>sumsquare_error</th>\n",
       "    </tr>\n",
       "  </thead>\n",
       "  <tbody>\n",
       "    <tr>\n",
       "      <th>gamma</th>\n",
       "      <td>0.001151</td>\n",
       "    </tr>\n",
       "    <tr>\n",
       "      <th>beta</th>\n",
       "      <td>0.005660</td>\n",
       "    </tr>\n",
       "    <tr>\n",
       "      <th>norm</th>\n",
       "      <td>0.024371</td>\n",
       "    </tr>\n",
       "    <tr>\n",
       "      <th>uniform</th>\n",
       "      <td>0.025738</td>\n",
       "    </tr>\n",
       "  </tbody>\n",
       "</table>\n",
       "</div>"
      ],
      "text/plain": [
       "         sumsquare_error\n",
       "gamma           0.001151\n",
       "beta            0.005660\n",
       "norm            0.024371\n",
       "uniform         0.025738"
      ]
     },
     "execution_count": 32,
     "metadata": {},
     "output_type": "execute_result"
    },
    {
     "data": {
      "image/png": "[encoded data removed]",
      "text/plain": [
       "<Figure size 432x288 with 1 Axes>"
      ]
     },
     "metadata": {
      "needs_background": "light"
     },
     "output_type": "display_data"
    }
   ],
   "source": [
    "num = 2\n",
    "\n",
    "image = np.array(Image.open(os.path.join(DIRNAME, image_names[3])))\n",
    "a =image[:, :, num].ravel()\n",
    "f = Fitter(a, distributions=DISTRIBUTIONS, bins=BINS)\n",
    "f.fit()\n",
    "f.summary()"
   ]
  },
  {
   "cell_type": "code",
   "execution_count": 33,
   "metadata": {},
   "outputs": [
    {
     "name": "stdout",
     "output_type": "stream",
     "text": [
      "Fitted beta distribution with error=0.0024032017876429368)\n",
      "Fitted gamma distribution with error=0.0029325997053129874)\n",
      "Fitted uniform distribution with error=0.0025036504162029988)\n",
      "Fitted norm distribution with error=0.0033362817252310557)\n"
     ]
    },
    {
     "data": {
      "text/html": [
       "<div>\n",
       "<style scoped>\n",
       "    .dataframe tbody tr th:only-of-type {\n",
       "        vertical-align: middle;\n",
       "    }\n",
       "\n",
       "    .dataframe tbody tr th {\n",
       "        vertical-align: top;\n",
       "    }\n",
       "\n",
       "    .dataframe thead th {\n",
       "        text-align: right;\n",
       "    }\n",
       "</style>\n",
       "<table border=\"1\" class=\"dataframe\">\n",
       "  <thead>\n",
       "    <tr style=\"text-align: right;\">\n",
       "      <th></th>\n",
       "      <th>sumsquare_error</th>\n",
       "    </tr>\n",
       "  </thead>\n",
       "  <tbody>\n",
       "    <tr>\n",
       "      <th>beta</th>\n",
       "      <td>0.002403</td>\n",
       "    </tr>\n",
       "    <tr>\n",
       "      <th>uniform</th>\n",
       "      <td>0.002504</td>\n",
       "    </tr>\n",
       "    <tr>\n",
       "      <th>gamma</th>\n",
       "      <td>0.002933</td>\n",
       "    </tr>\n",
       "    <tr>\n",
       "      <th>norm</th>\n",
       "      <td>0.003336</td>\n",
       "    </tr>\n",
       "  </tbody>\n",
       "</table>\n",
       "</div>"
      ],
      "text/plain": [
       "         sumsquare_error\n",
       "beta            0.002403\n",
       "uniform         0.002504\n",
       "gamma           0.002933\n",
       "norm            0.003336"
      ]
     },
     "execution_count": 33,
     "metadata": {},
     "output_type": "execute_result"
    },
    {
     "data": {
      "image/png": "[encoded data removed]",
      "text/plain": [
       "<Figure size 432x288 with 1 Axes>"
      ]
     },
     "metadata": {
      "needs_background": "light"
     },
     "output_type": "display_data"
    }
   ],
   "source": [
    "num = 2\n",
    "\n",
    "image = np.array(Image.open(os.path.join(DIRNAME, image_names[4])))\n",
    "a =image[:, :, num].ravel()\n",
    "f = Fitter(a, distributions=DISTRIBUTIONS, bins=BINS)\n",
    "f.fit()\n",
    "f.summary()"
   ]
  },
  {
   "cell_type": "code",
   "execution_count": 34,
   "metadata": {},
   "outputs": [
    {
     "name": "stderr",
     "output_type": "stream",
     "text": [
      "/usr/local/lib/python3.6/dist-packages/scipy/stats/_continuous_distns.py:515: RuntimeWarning:\n",
      "\n",
      "invalid value encountered in sqrt\n",
      "\n",
      "/usr/local/lib/python3.6/dist-packages/scipy/optimize/minpack.py:162: RuntimeWarning:\n",
      "\n",
      "The iteration is not making good progress, as measured by the \n",
      "  improvement from the last ten iterations.\n",
      "\n"
     ]
    },
    {
     "name": "stdout",
     "output_type": "stream",
     "text": [
      "Fitted beta distribution with error=8.91259817400299e-05)\n",
      "Fitted gamma distribution with error=0.00011452427198149444)\n",
      "Fitted uniform distribution with error=0.003948029161367345)\n",
      "Fitted norm distribution with error=9.847544320254291e-05)\n"
     ]
    },
    {
     "data": {
      "text/html": [
       "<div>\n",
       "<style scoped>\n",
       "    .dataframe tbody tr th:only-of-type {\n",
       "        vertical-align: middle;\n",
       "    }\n",
       "\n",
       "    .dataframe tbody tr th {\n",
       "        vertical-align: top;\n",
       "    }\n",
       "\n",
       "    .dataframe thead th {\n",
       "        text-align: right;\n",
       "    }\n",
       "</style>\n",
       "<table border=\"1\" class=\"dataframe\">\n",
       "  <thead>\n",
       "    <tr style=\"text-align: right;\">\n",
       "      <th></th>\n",
       "      <th>sumsquare_error</th>\n",
       "    </tr>\n",
       "  </thead>\n",
       "  <tbody>\n",
       "    <tr>\n",
       "      <th>beta</th>\n",
       "      <td>0.000089</td>\n",
       "    </tr>\n",
       "    <tr>\n",
       "      <th>norm</th>\n",
       "      <td>0.000098</td>\n",
       "    </tr>\n",
       "    <tr>\n",
       "      <th>gamma</th>\n",
       "      <td>0.000115</td>\n",
       "    </tr>\n",
       "    <tr>\n",
       "      <th>uniform</th>\n",
       "      <td>0.003948</td>\n",
       "    </tr>\n",
       "  </tbody>\n",
       "</table>\n",
       "</div>"
      ],
      "text/plain": [
       "         sumsquare_error\n",
       "beta            0.000089\n",
       "norm            0.000098\n",
       "gamma           0.000115\n",
       "uniform         0.003948"
      ]
     },
     "execution_count": 34,
     "metadata": {},
     "output_type": "execute_result"
    },
    {
     "data": {
      "image/png": "[encoded data removed]",
      "text/plain": [
       "<Figure size 432x288 with 1 Axes>"
      ]
     },
     "metadata": {
      "needs_background": "light"
     },
     "output_type": "display_data"
    }
   ],
   "source": [
    "num = 2\n",
    "\n",
    "image = np.array(Image.open(os.path.join(DIRNAME, image_names[5])))\n",
    "a =image[:, :, num].ravel()\n",
    "f = Fitter(a, distributions=DISTRIBUTIONS, bins=BINS)\n",
    "f.fit()\n",
    "f.summary()"
   ]
  },
  {
   "cell_type": "code",
   "execution_count": 35,
   "metadata": {},
   "outputs": [
    {
     "data": {
      "text/html": [
       "<div>\n",
       "<style scoped>\n",
       "    .dataframe tbody tr th:only-of-type {\n",
       "        vertical-align: middle;\n",
       "    }\n",
       "\n",
       "    .dataframe tbody tr th {\n",
       "        vertical-align: top;\n",
       "    }\n",
       "\n",
       "    .dataframe thead th {\n",
       "        text-align: right;\n",
       "    }\n",
       "</style>\n",
       "<table border=\"1\" class=\"dataframe\">\n",
       "  <thead>\n",
       "    <tr style=\"text-align: right;\">\n",
       "      <th></th>\n",
       "      <th>name</th>\n",
       "      <th>min</th>\n",
       "      <th>max</th>\n",
       "      <th>mean</th>\n",
       "      <th>var</th>\n",
       "      <th>median</th>\n",
       "      <th>interquartile</th>\n",
       "      <th>skewness</th>\n",
       "      <th>kurtosis</th>\n",
       "    </tr>\n",
       "  </thead>\n",
       "  <tbody>\n",
       "    <tr>\n",
       "      <th>0</th>\n",
       "      <td>im13893.jpg</td>\n",
       "      <td>0</td>\n",
       "      <td>255</td>\n",
       "      <td>86.334293</td>\n",
       "      <td>5214.014733</td>\n",
       "      <td>68.0</td>\n",
       "      <td>101.0</td>\n",
       "      <td>0.876639</td>\n",
       "      <td>-0.210068</td>\n",
       "    </tr>\n",
       "    <tr>\n",
       "      <th>1</th>\n",
       "      <td>im13927.jpg</td>\n",
       "      <td>0</td>\n",
       "      <td>255</td>\n",
       "      <td>145.301806</td>\n",
       "      <td>2033.523209</td>\n",
       "      <td>158.0</td>\n",
       "      <td>25.0</td>\n",
       "      <td>-1.700317</td>\n",
       "      <td>2.141412</td>\n",
       "    </tr>\n",
       "    <tr>\n",
       "      <th>2</th>\n",
       "      <td>im13914.jpg</td>\n",
       "      <td>0</td>\n",
       "      <td>255</td>\n",
       "      <td>110.236612</td>\n",
       "      <td>5340.924547</td>\n",
       "      <td>111.0</td>\n",
       "      <td>129.0</td>\n",
       "      <td>0.032547</td>\n",
       "      <td>-1.207841</td>\n",
       "    </tr>\n",
       "    <tr>\n",
       "      <th>3</th>\n",
       "      <td>im13958.jpg</td>\n",
       "      <td>0</td>\n",
       "      <td>255</td>\n",
       "      <td>59.369514</td>\n",
       "      <td>3786.545550</td>\n",
       "      <td>36.0</td>\n",
       "      <td>75.0</td>\n",
       "      <td>1.337780</td>\n",
       "      <td>0.894947</td>\n",
       "    </tr>\n",
       "    <tr>\n",
       "      <th>4</th>\n",
       "      <td>im13809.jpg</td>\n",
       "      <td>0</td>\n",
       "      <td>255</td>\n",
       "      <td>107.279240</td>\n",
       "      <td>5567.511215</td>\n",
       "      <td>83.0</td>\n",
       "      <td>128.0</td>\n",
       "      <td>0.338822</td>\n",
       "      <td>-1.157278</td>\n",
       "    </tr>\n",
       "  </tbody>\n",
       "</table>\n",
       "</div>"
      ],
      "text/plain": [
       "          name  min  max        mean          var  median  interquartile  \\\n",
       "0  im13893.jpg    0  255   86.334293  5214.014733    68.0          101.0   \n",
       "1  im13927.jpg    0  255  145.301806  2033.523209   158.0           25.0   \n",
       "2  im13914.jpg    0  255  110.236612  5340.924547   111.0          129.0   \n",
       "3  im13958.jpg    0  255   59.369514  3786.545550    36.0           75.0   \n",
       "4  im13809.jpg    0  255  107.279240  5567.511215    83.0          128.0   \n",
       "\n",
       "   skewness  kurtosis  \n",
       "0  0.876639 -0.210068  \n",
       "1 -1.700317  2.141412  \n",
       "2  0.032547 -1.207841  \n",
       "3  1.337780  0.894947  \n",
       "4  0.338822 -1.157278  "
      ]
     },
     "execution_count": 35,
     "metadata": {},
     "output_type": "execute_result"
    }
   ],
   "source": [
    "data['green'].head()"
   ]
  },
  {
   "cell_type": "code",
   "execution_count": null,
   "metadata": {},
   "outputs": [],
   "source": []
  },
  {
   "cell_type": "code",
   "execution_count": 36,
   "metadata": {},
   "outputs": [
    {
     "data": {
      "text/plain": [
       "['im13893.jpg', 'im13927.jpg', 'im13914.jpg', 'im13958.jpg', 'im13809.jpg']"
      ]
     },
     "execution_count": 36,
     "metadata": {},
     "output_type": "execute_result"
    }
   ],
   "source": [
    "image_names[:5]"
   ]
  },
  {
   "cell_type": "code",
   "execution_count": 37,
   "metadata": {},
   "outputs": [
    {
     "data": {
      "image/png": "[encoded data removed]",
      "text/plain": [
       "<Figure size 432x288 with 1 Axes>"
      ]
     },
     "metadata": {
      "needs_background": "light"
     },
     "output_type": "display_data"
    }
   ],
   "source": [
    "N = 3\n",
    "beta = (555, 541, 565)\n",
    "gamma = (317, 321, 325,)\n",
    "norm = (66, 73, 58)\n",
    "uniform = (62, 65, 52)\n",
    "\n",
    "ind = np.arange(N)    # the x locations for the groups\n",
    "width = 0.55       # the width of the bars: can also be len(x) sequence\n",
    "\n",
    "\n",
    "\n",
    "p2 = plt.bar(ind, gamma, width, bottom=norm)\n",
    "p3 = plt.bar(ind, norm, width, bottom=uniform)\n",
    "p4 = plt.bar(ind, uniform, width, bottom=beta)\n",
    "p1 = plt.bar(ind, beta, width)\n",
    "\n",
    "plt.ylabel('Кількість зображень')\n",
    "plt.xticks(ind, ('red', 'green', 'blue'))\n",
    "\n",
    "plt.legend((p1[0], p2[0], p3[0], p4[0],), ('beta', 'gamma', 'norm', 'uniform'))\n",
    "\n",
    "plt.show()"
   ]
  },
  {
   "cell_type": "code",
   "execution_count": 38,
   "metadata": {},
   "outputs": [
    {
     "data": {
      "text/plain": [
       "{'red': defaultdict(int, {'gamma': 1, 'beta': 4}),\n",
       " 'green': defaultdict(int, {'gamma': 2, 'norm': 1, 'beta': 2}),\n",
       " 'blue': defaultdict(int, {'gamma': 2, 'norm': 1, 'beta': 2})}"
      ]
     },
     "execution_count": 38,
     "metadata": {},
     "output_type": "execute_result"
    }
   ],
   "source": [
    "hist"
   ]
  },
  {
   "cell_type": "code",
   "execution_count": 39,
   "metadata": {},
   "outputs": [
    {
     "name": "stderr",
     "output_type": "stream",
     "text": [
      "/usr/local/lib/python3.6/dist-packages/scipy/stats/_continuous_distns.py:515: RuntimeWarning:\n",
      "\n",
      "invalid value encountered in sqrt\n",
      "\n"
     ]
    },
    {
     "name": "stdout",
     "output_type": "stream",
     "text": [
      "Fitted beta distribution with error=0.0011574716226318968)\n",
      "Fitted gamma distribution with error=0.001072987718158939)\n",
      "Fitted uniform distribution with error=0.002504747182845955)\n",
      "Fitted norm distribution with error=0.0023889836716007107)\n"
     ]
    },
    {
     "name": "stderr",
     "output_type": "stream",
     "text": [
      "/usr/local/lib/python3.6/dist-packages/scipy/optimize/minpack.py:162: RuntimeWarning:\n",
      "\n",
      "The iteration is not making good progress, as measured by the \n",
      "  improvement from the last ten iterations.\n",
      "\n"
     ]
    },
    {
     "name": "stdout",
     "output_type": "stream",
     "text": [
      "Fitted beta distribution with error=0.0030665603506496815)\n",
      "Fitted gamma distribution with error=0.005438643056616864)\n",
      "Fitted uniform distribution with error=0.010789866234117103)\n",
      "Fitted norm distribution with error=0.004625015567431328)\n",
      "Fitted beta distribution with error=0.0011528690634584602)\n",
      "Fitted gamma distribution with error=0.0020204840259091823)\n",
      "Fitted uniform distribution with error=0.001643341481926521)\n",
      "Fitted norm distribution with error=0.0020222806833964796)\n",
      "Fitted beta distribution with error=0.001102367562681763)\n",
      "Fitted gamma distribution with error=0.0014996579699384808)\n",
      "Fitted uniform distribution with error=0.004279870690387593)\n",
      "Fitted norm distribution with error=0.003785574652996427)\n",
      "Fitted beta distribution with error=0.0019198505000973527)\n",
      "Fitted gamma distribution with error=0.006017243272506861)\n",
      "Fitted uniform distribution with error=0.0030603395053102654)\n",
      "Fitted norm distribution with error=0.0031343721342444357)\n",
      "Fitted beta distribution with error=6.567785943450681e-05)\n",
      "Fitted gamma distribution with error=6.481430391479236e-05)\n",
      "Fitted uniform distribution with error=0.0028979694620065244)\n",
      "Fitted norm distribution with error=6.290255030908354e-05)\n",
      "Fitted beta distribution with error=0.0023789774796542464)\n",
      "Fitted gamma distribution with error=0.0036346062337030663)\n",
      "Fitted uniform distribution with error=0.0026052502602338158)\n",
      "Fitted norm distribution with error=0.0036349469359995253)\n",
      "Fitted beta distribution with error=0.012311795799984166)\n",
      "Fitted gamma distribution with error=0.027091404426723916)\n",
      "Fitted uniform distribution with error=0.026686496748220774)\n",
      "Fitted norm distribution with error=0.0270291525549207)\n",
      "Fitted beta distribution with error=0.30847548615257214)\n",
      "Fitted gamma distribution with error=0.159584173486223)\n",
      "Fitted uniform distribution with error=0.30936337286537696)\n",
      "Fitted norm distribution with error=0.3099659317012519)\n",
      "Fitted beta distribution with error=0.027953933164873723)\n",
      "Fitted gamma distribution with error=0.09108105216468035)\n",
      "Fitted uniform distribution with error=0.041441780411630484)\n",
      "Fitted norm distribution with error=0.04068819464437472)\n",
      "Fitted beta distribution with error=0.0033335222628494087)\n",
      "Fitted gamma distribution with error=0.0028744235268048997)\n",
      "Fitted uniform distribution with error=0.004690010873828965)\n",
      "Fitted norm distribution with error=0.003999401751427939)\n",
      "Fitted beta distribution with error=0.025318823682074942)\n",
      "Fitted gamma distribution with error=0.011323918530005882)\n",
      "Fitted uniform distribution with error=0.03052092868206184)\n",
      "Fitted norm distribution with error=0.03109606584189302)\n",
      "Fitted beta distribution with error=0.5336385319919088)\n",
      "Fitted gamma distribution with error=0.9227981151930943)\n",
      "Fitted uniform distribution with error=0.8412235462581924)\n",
      "Fitted norm distribution with error=0.7142450466929745)\n",
      "Fitted beta distribution with error=0.009271255754391625)\n",
      "Fitted gamma distribution with error=0.01055861731363649)\n",
      "Fitted uniform distribution with error=0.009346670704998674)\n",
      "Fitted norm distribution with error=0.010516967487549655)\n",
      "Fitted beta distribution with error=0.007903964684865445)\n",
      "Fitted gamma distribution with error=0.00861605251294735)\n",
      "Fitted uniform distribution with error=0.01576957135968456)\n",
      "Fitted norm distribution with error=0.013490030315809622)\n",
      "Fitted beta distribution with error=0.0019656425085842946)\n",
      "Fitted gamma distribution with error=0.00216301669724766)\n",
      "Fitted uniform distribution with error=0.00310415619415783)\n",
      "Fitted norm distribution with error=0.002077472514611508)\n",
      "Fitted beta distribution with error=0.2680219137794335)\n",
      "Fitted gamma distribution with error=0.32157703531118587)\n",
      "Fitted uniform distribution with error=0.32004193277129955)\n",
      "Fitted norm distribution with error=0.3214893155975206)\n",
      "Fitted beta distribution with error=0.0035097586739132785)\n",
      "Fitted gamma distribution with error=0.004513192643323458)\n",
      "Fitted uniform distribution with error=0.004349075686937046)\n",
      "Fitted norm distribution with error=0.0046082333819638145)\n",
      "Fitted beta distribution with error=0.0006472113589874047)\n",
      "Fitted gamma distribution with error=0.0005403651854900085)\n",
      "Fitted uniform distribution with error=0.0017615149145713909)\n",
      "Fitted norm distribution with error=0.0005299867019285544)\n",
      "Fitted beta distribution with error=0.0011712540412483843)\n",
      "Fitted gamma distribution with error=0.0013873925373523324)\n",
      "Fitted uniform distribution with error=0.0013854780466134127)\n",
      "Fitted norm distribution with error=0.0016204094212951274)\n",
      "Fitted beta distribution with error=0.008841468790703709)\n",
      "Fitted gamma distribution with error=0.0072241111388394235)\n",
      "Fitted uniform distribution with error=0.013989360417562475)\n",
      "Fitted norm distribution with error=0.014016782633997754)\n",
      "Fitted beta distribution with error=0.0005442816095912349)\n",
      "Fitted gamma distribution with error=0.001286366858307989)\n",
      "Fitted uniform distribution with error=0.0006586640092683395)\n",
      "Fitted norm distribution with error=0.0012958796105541704)\n",
      "Fitted beta distribution with error=0.011338773851255299)\n",
      "Fitted gamma distribution with error=0.012818618712886358)\n",
      "Fitted uniform distribution with error=0.011926588039030787)\n",
      "Fitted norm distribution with error=0.012798354243887288)\n",
      "Fitted beta distribution with error=0.0014032905473975814)\n",
      "Fitted gamma distribution with error=0.0014084295139291227)\n",
      "Fitted uniform distribution with error=0.002333053720817143)\n",
      "Fitted norm distribution with error=0.0027753757077406986)\n",
      "Fitted beta distribution with error=0.0007196063759889043)\n",
      "Fitted gamma distribution with error=0.0008749291863709175)\n",
      "Fitted uniform distribution with error=0.0026112262116144013)\n",
      "Fitted norm distribution with error=0.0008132146112464188)\n",
      "Fitted beta distribution with error=0.0008064632975560166)\n",
      "Fitted gamma distribution with error=0.0006878741260590423)\n",
      "Fitted uniform distribution with error=0.00187004854047074)\n",
      "Fitted norm distribution with error=0.0020076526439284864)\n",
      "Fitted beta distribution with error=0.0002508402462777557)\n",
      "Fitted gamma distribution with error=0.000442550435436773)\n",
      "Fitted uniform distribution with error=0.0009324619741998486)\n",
      "Fitted norm distribution with error=0.00042648811028137186)\n",
      "Fitted beta distribution with error=0.02027558292262466)\n",
      "Fitted gamma distribution with error=0.07894816479884065)\n",
      "Fitted uniform distribution with error=0.026107510189923397)\n",
      "Fitted norm distribution with error=0.026275882967303228)\n",
      "Fitted beta distribution with error=0.002674729953205149)\n",
      "Fitted gamma distribution with error=0.003546018170060294)\n",
      "Fitted uniform distribution with error=0.0029531495249558236)\n",
      "Fitted norm distribution with error=0.0035537290259848465)\n",
      "Fitted beta distribution with error=0.004409404566925539)\n",
      "Fitted gamma distribution with error=0.006527001439396949)\n",
      "Fitted uniform distribution with error=0.006230163561451603)\n",
      "Fitted norm distribution with error=0.006521903006561535)\n",
      "Fitted beta distribution with error=0.0019058213880676742)\n",
      "Fitted gamma distribution with error=0.0006802128329378386)\n",
      "Fitted uniform distribution with error=0.0017544654232962051)\n",
      "Fitted norm distribution with error=0.0014136769484721142)\n",
      "Fitted beta distribution with error=0.00048762982466334835)\n",
      "Fitted gamma distribution with error=0.0001683988981230661)\n",
      "Fitted uniform distribution with error=0.0027919829665879947)\n",
      "Fitted norm distribution with error=0.0014751736499405452)\n",
      "Fitted beta distribution with error=0.058410951016826355)\n",
      "Fitted gamma distribution with error=0.02446840249643428)\n",
      "Fitted uniform distribution with error=0.059084189549107706)\n",
      "Fitted norm distribution with error=0.05973125608254077)\n",
      "Fitted beta distribution with error=0.0003364578736142268)\n",
      "Fitted gamma distribution with error=0.001216416756313156)\n",
      "Fitted uniform distribution with error=0.0005103261656718909)\n",
      "Fitted norm distribution with error=0.0012087817602427567)\n",
      "Fitted beta distribution with error=0.0010288525549292042)\n",
      "Fitted gamma distribution with error=0.0008681189221438456)\n",
      "Fitted uniform distribution with error=0.0025216850828489964)\n",
      "Fitted norm distribution with error=0.0008423843833214512)\n",
      "Fitted beta distribution with error=0.02690240655722948)\n",
      "Fitted gamma distribution with error=0.03138623950464066)\n",
      "Fitted uniform distribution with error=0.030165985273063467)\n",
      "Fitted norm distribution with error=0.031374367859791544)\n"
     ]
    },
    {
     "name": "stdout",
     "output_type": "stream",
     "text": [
      "Fitted beta distribution with error=0.006033493888028854)\n",
      "Fitted gamma distribution with error=0.0027653157638904556)\n",
      "Fitted uniform distribution with error=0.017772132274174422)\n",
      "Fitted norm distribution with error=0.016190798727648257)\n",
      "Fitted beta distribution with error=0.0007374269915794413)\n",
      "Fitted gamma distribution with error=0.0007237552976107533)\n",
      "Fitted uniform distribution with error=0.0011187636591662427)\n",
      "Fitted norm distribution with error=0.0015871355697729076)\n",
      "Fitted beta distribution with error=0.0020312987811622794)\n",
      "Fitted gamma distribution with error=0.0022480721874524974)\n",
      "Fitted uniform distribution with error=0.002930479061886912)\n",
      "Fitted norm distribution with error=0.00243834387643043)\n",
      "Fitted beta distribution with error=0.02754714878336401)\n",
      "Fitted gamma distribution with error=0.014279943180373724)\n",
      "Fitted uniform distribution with error=0.07838304451291485)\n",
      "Fitted norm distribution with error=0.07474266423679417)\n",
      "Fitted beta distribution with error=0.010542892194469692)\n",
      "Fitted gamma distribution with error=0.006991745269853636)\n",
      "Fitted uniform distribution with error=0.013355933825245907)\n",
      "Fitted norm distribution with error=0.010913688960311514)\n",
      "Fitted beta distribution with error=0.0015208151353386953)\n",
      "Fitted gamma distribution with error=0.0014974771746922876)\n",
      "Fitted uniform distribution with error=0.004707630778426283)\n",
      "Fitted norm distribution with error=0.0024717411606281527)\n",
      "Fitted beta distribution with error=0.007929525467891906)\n",
      "Fitted gamma distribution with error=0.0038024553320175204)\n",
      "Fitted uniform distribution with error=0.008429310746913408)\n",
      "Fitted norm distribution with error=0.006817191242943214)\n",
      "Fitted beta distribution with error=0.22135478314848883)\n",
      "Fitted gamma distribution with error=0.3172624469362283)\n",
      "Fitted uniform distribution with error=0.42794020993682186)\n",
      "Fitted norm distribution with error=0.4209385543393155)\n",
      "Fitted beta distribution with error=0.0015857228689829775)\n",
      "Fitted gamma distribution with error=0.0015081831645437002)\n",
      "Fitted uniform distribution with error=0.0021016130942285863)\n",
      "Fitted norm distribution with error=0.0014838599518065786)\n",
      "Fitted beta distribution with error=0.1352848465516846)\n",
      "Fitted gamma distribution with error=0.06646818623032003)\n",
      "Fitted uniform distribution with error=0.14081616327142601)\n",
      "Fitted norm distribution with error=0.14174149267019953)\n",
      "Fitted beta distribution with error=0.0017546756379484421)\n",
      "Fitted gamma distribution with error=0.0019410044394808014)\n",
      "Fitted uniform distribution with error=0.0027728586441112396)\n",
      "Fitted norm distribution with error=0.001843709245428765)\n",
      "Fitted beta distribution with error=0.006624707216516153)\n",
      "Fitted gamma distribution with error=0.0061699404577143235)\n",
      "Fitted uniform distribution with error=0.009504842033554355)\n",
      "Fitted norm distribution with error=0.007423363622081002)\n",
      "Fitted beta distribution with error=0.000820033363412911)\n",
      "Fitted gamma distribution with error=0.0005156681315207526)\n",
      "Fitted uniform distribution with error=0.0013982330175208782)\n",
      "Fitted norm distribution with error=0.0016462146895978112)\n",
      "Fitted beta distribution with error=0.015374034376515038)\n",
      "Fitted gamma distribution with error=0.004094818211076747)\n",
      "Fitted uniform distribution with error=0.009355065187160276)\n",
      "Fitted norm distribution with error=0.008704678647718197)\n",
      "Fitted beta distribution with error=0.002382777415105701)\n",
      "Fitted gamma distribution with error=0.07947405659478611)\n",
      "Fitted uniform distribution with error=0.004389691689388252)\n",
      "Fitted norm distribution with error=0.003424658587465193)\n",
      "Fitted beta distribution with error=0.001634254468485916)\n",
      "Fitted gamma distribution with error=0.0014105759349125916)\n",
      "Fitted uniform distribution with error=0.003167637068514134)\n",
      "Fitted norm distribution with error=0.0016001376762326588)\n",
      "Fitted beta distribution with error=0.010046776558842497)\n",
      "Fitted gamma distribution with error=0.010053565508964487)\n",
      "Fitted uniform distribution with error=0.010099650257206133)\n",
      "Fitted norm distribution with error=0.01093083779495814)\n",
      "Fitted beta distribution with error=0.000621919919959191)\n",
      "Fitted gamma distribution with error=0.001315285019931135)\n",
      "Fitted uniform distribution with error=0.0017097600301784045)\n",
      "Fitted norm distribution with error=0.0011380207769999488)\n",
      "Fitted beta distribution with error=0.0009489352577076642)\n",
      "Fitted gamma distribution with error=0.0018279139850097643)\n",
      "Fitted uniform distribution with error=0.0037506214512574823)\n",
      "Fitted norm distribution with error=0.0016496395112019125)\n",
      "Fitted beta distribution with error=0.005751803000598655)\n",
      "Fitted gamma distribution with error=0.00497361046002439)\n",
      "Fitted uniform distribution with error=0.006292906061904529)\n",
      "Fitted norm distribution with error=0.004830681595417734)\n",
      "Fitted beta distribution with error=0.019582462739486058)\n",
      "Fitted gamma distribution with error=0.021081056908105994)\n",
      "Fitted uniform distribution with error=0.020692198429971966)\n",
      "Fitted norm distribution with error=0.02094092317414771)\n",
      "Fitted beta distribution with error=0.0020776027267294006)\n",
      "Fitted gamma distribution with error=0.0032835497919467558)\n",
      "Fitted uniform distribution with error=0.0021751843524309596)\n",
      "Fitted norm distribution with error=0.003265553035094206)\n",
      "Fitted beta distribution with error=0.0017506249627290567)\n",
      "Fitted gamma distribution with error=0.0026675280557112765)\n",
      "Fitted uniform distribution with error=0.001963556962499491)\n",
      "Fitted norm distribution with error=0.002673614345593239)\n",
      "Fitted beta distribution with error=0.002468336857261245)\n",
      "Fitted gamma distribution with error=0.0009558229883949789)\n",
      "Fitted uniform distribution with error=0.0036782089864900278)\n",
      "Fitted norm distribution with error=0.002753429154600469)\n",
      "Fitted beta distribution with error=0.02646898997165518)\n",
      "Fitted gamma distribution with error=0.019633559873332204)\n",
      "Fitted uniform distribution with error=0.03327129517346616)\n",
      "Fitted norm distribution with error=0.032878243713582354)\n",
      "Fitted beta distribution with error=0.004198080110816299)\n",
      "Fitted gamma distribution with error=0.006783453143992156)\n",
      "Fitted uniform distribution with error=0.006957097157550123)\n",
      "Fitted norm distribution with error=0.0065193305053190135)\n",
      "Fitted beta distribution with error=0.005986517672909617)\n",
      "Fitted gamma distribution with error=0.00589430869382532)\n",
      "Fitted uniform distribution with error=0.009176686465845015)\n",
      "Fitted norm distribution with error=0.007733908944959574)\n",
      "Fitted beta distribution with error=0.00037553015043463166)\n",
      "Fitted gamma distribution with error=0.0008745569312329208)\n",
      "Fitted uniform distribution with error=0.0014408010098374909)\n",
      "Fitted norm distribution with error=0.0016535882460721697)\n",
      "Fitted beta distribution with error=0.0024402927997406176)\n",
      "Fitted gamma distribution with error=0.0024142170902298424)\n",
      "Fitted uniform distribution with error=0.0027558893635258545)\n",
      "Fitted norm distribution with error=0.0023447938726610484)\n",
      "Fitted beta distribution with error=0.0009681770812921702)\n",
      "Fitted gamma distribution with error=0.0009719333999553866)\n",
      "Fitted uniform distribution with error=0.0031641919147359253)\n",
      "Fitted norm distribution with error=0.0014575575127463566)\n",
      "Fitted beta distribution with error=0.02519269054883243)\n",
      "Fitted gamma distribution with error=0.028124716068054598)\n",
      "Fitted uniform distribution with error=0.028196280573724104)\n",
      "Fitted norm distribution with error=0.02798845947558929)\n",
      "Fitted beta distribution with error=0.0002408223038838389)\n",
      "Fitted gamma distribution with error=0.000224554850548358)\n",
      "Fitted uniform distribution with error=0.001340562196134861)\n",
      "Fitted norm distribution with error=0.000531844999843464)\n",
      "Fitted beta distribution with error=0.003307961345073404)\n",
      "Fitted gamma distribution with error=0.004021640028630986)\n",
      "Fitted uniform distribution with error=0.003988222894130743)\n",
      "Fitted norm distribution with error=0.004025406341238819)\n",
      "Fitted beta distribution with error=0.0005455438589590251)\n",
      "Fitted gamma distribution with error=0.0006007949282417389)\n",
      "Fitted uniform distribution with error=0.0015290669116280495)\n",
      "Fitted norm distribution with error=0.0005810042864483299)\n",
      "Fitted beta distribution with error=0.006767373816741705)\n",
      "Fitted gamma distribution with error=0.0034027313532400197)\n",
      "Fitted uniform distribution with error=0.004001775220891466)\n",
      "Fitted norm distribution with error=0.004828810333197441)\n"
     ]
    },
    {
     "name": "stdout",
     "output_type": "stream",
     "text": [
      "Fitted beta distribution with error=0.034342992959347514)\n",
      "Fitted gamma distribution with error=0.03860797261251824)\n",
      "Fitted uniform distribution with error=0.039238943432945345)\n",
      "Fitted norm distribution with error=0.038569498019967216)\n",
      "Fitted beta distribution with error=0.009685112261320938)\n",
      "Fitted gamma distribution with error=0.009947212100279684)\n",
      "Fitted uniform distribution with error=0.014339794711893335)\n",
      "Fitted norm distribution with error=0.009926754010810859)\n",
      "Fitted beta distribution with error=0.013821503669294024)\n",
      "Fitted gamma distribution with error=0.018297551031042233)\n",
      "Fitted uniform distribution with error=0.024230954638573395)\n",
      "Fitted norm distribution with error=0.017426687164838646)\n",
      "Fitted beta distribution with error=0.012443107714330683)\n",
      "Fitted gamma distribution with error=0.013736977870099556)\n",
      "Fitted uniform distribution with error=0.05112149386569427)\n",
      "Fitted norm distribution with error=0.04892168450337568)\n",
      "Fitted beta distribution with error=0.000603578763058185)\n",
      "Fitted gamma distribution with error=0.0007067594984501138)\n",
      "Fitted uniform distribution with error=0.0005887694207467419)\n",
      "Fitted norm distribution with error=0.0006836861823873537)\n",
      "Fitted beta distribution with error=0.004006136809968872)\n",
      "Fitted gamma distribution with error=0.004408143162188193)\n",
      "Fitted uniform distribution with error=0.004239916305172252)\n",
      "Fitted norm distribution with error=0.0044022343463740645)\n",
      "Fitted beta distribution with error=0.0042342572242804535)\n",
      "Fitted gamma distribution with error=0.0042516296577031105)\n",
      "Fitted uniform distribution with error=0.006443580818795204)\n",
      "Fitted norm distribution with error=0.004549648548227751)\n",
      "Fitted beta distribution with error=0.29758779547449254)\n",
      "Fitted gamma distribution with error=0.497025661803228)\n",
      "Fitted uniform distribution with error=0.5432928614579038)\n",
      "Fitted norm distribution with error=0.5351088361932894)\n",
      "Fitted beta distribution with error=0.003515960024910788)\n",
      "Fitted gamma distribution with error=0.0035316092799692785)\n",
      "Fitted uniform distribution with error=0.012104630530235748)\n",
      "Fitted norm distribution with error=0.003567278520643669)\n",
      "Fitted beta distribution with error=0.0010519918205099791)\n",
      "Fitted gamma distribution with error=0.0010286987602600222)\n",
      "Fitted uniform distribution with error=0.002815635398856709)\n",
      "Fitted norm distribution with error=0.0025101760154396064)\n",
      "Fitted beta distribution with error=0.0016143380235934242)\n",
      "Fitted gamma distribution with error=0.0025214263749795685)\n",
      "Fitted uniform distribution with error=0.0022065585123496774)\n",
      "Fitted norm distribution with error=0.002527824763125089)\n",
      "Fitted beta distribution with error=0.023899198602748282)\n",
      "Fitted gamma distribution with error=0.01923615487897056)\n",
      "Fitted uniform distribution with error=0.022487521364440228)\n",
      "Fitted norm distribution with error=0.02386129088610981)\n",
      "Fitted beta distribution with error=0.00056917701039851)\n",
      "Fitted gamma distribution with error=0.0005679022277276667)\n",
      "Fitted uniform distribution with error=0.0031205926322011818)\n",
      "Fitted norm distribution with error=0.0010422242268256722)\n",
      "Fitted beta distribution with error=0.018161106152799342)\n",
      "Fitted gamma distribution with error=0.03182439716752279)\n",
      "Fitted uniform distribution with error=0.018914458226889624)\n",
      "Fitted norm distribution with error=0.018575202519262448)\n",
      "Fitted beta distribution with error=0.003975914366254338)\n",
      "Fitted gamma distribution with error=0.038667942597088764)\n",
      "Fitted uniform distribution with error=0.011111180146950398)\n",
      "Fitted norm distribution with error=0.009425188628263893)\n",
      "Fitted beta distribution with error=0.0032674827499438058)\n",
      "Fitted gamma distribution with error=0.06411081177126655)\n",
      "Fitted uniform distribution with error=0.018097777034609696)\n",
      "Fitted norm distribution with error=0.013847549523414163)\n",
      "Fitted beta distribution with error=0.0045186549189113225)\n",
      "Fitted gamma distribution with error=0.0044096654891596565)\n",
      "Fitted uniform distribution with error=0.007772390992890566)\n",
      "Fitted norm distribution with error=0.005827608830731598)\n",
      "Fitted beta distribution with error=0.0033186600287165445)\n",
      "Fitted gamma distribution with error=0.004146928804848613)\n",
      "Fitted uniform distribution with error=0.00617767962584595)\n",
      "Fitted norm distribution with error=0.003947266221107503)\n",
      "Fitted beta distribution with error=0.006747452224608204)\n",
      "Fitted gamma distribution with error=0.025674221824127777)\n",
      "Fitted uniform distribution with error=0.017119481345992237)\n",
      "Fitted norm distribution with error=0.012299515497685725)\n",
      "Fitted beta distribution with error=0.0004552232942840223)\n",
      "Fitted gamma distribution with error=0.00045782076067326494)\n",
      "Fitted uniform distribution with error=0.003322303978018356)\n",
      "Fitted norm distribution with error=0.0017591976944482952)\n",
      "Fitted beta distribution with error=0.0030212745746217105)\n",
      "Fitted gamma distribution with error=0.0028624241480270105)\n",
      "Fitted uniform distribution with error=0.001716253091193728)\n",
      "Fitted norm distribution with error=0.0028447605731257864)\n",
      "Fitted beta distribution with error=0.0005246187096156315)\n",
      "Fitted gamma distribution with error=0.0005034161016651928)\n",
      "Fitted uniform distribution with error=0.0019016464023866625)\n",
      "Fitted norm distribution with error=0.0005544359125869084)\n",
      "Fitted beta distribution with error=0.0007627884894659237)\n",
      "Fitted gamma distribution with error=0.0014133897176065897)\n",
      "Fitted uniform distribution with error=0.002023118278924411)\n",
      "Fitted norm distribution with error=0.0020170410893888616)\n",
      "Fitted beta distribution with error=0.0008143760687811352)\n",
      "Fitted gamma distribution with error=0.0014104822710439633)\n",
      "Fitted uniform distribution with error=0.001025718279803516)\n",
      "Fitted norm distribution with error=0.0013540555024395423)\n",
      "Fitted beta distribution with error=0.006932002253759781)\n",
      "Fitted gamma distribution with error=0.004183974726106897)\n",
      "Fitted uniform distribution with error=0.011470340773784853)\n",
      "Fitted norm distribution with error=0.010244857836757692)\n",
      "Fitted beta distribution with error=0.0017030437806368748)\n",
      "Fitted gamma distribution with error=0.0017291718811039847)\n",
      "Fitted uniform distribution with error=0.009700994564382259)\n",
      "Fitted norm distribution with error=0.0049834664978038)\n"
     ]
    },
    {
     "name": "stderr",
     "output_type": "stream",
     "text": [
      "/usr/local/lib/python3.6/dist-packages/scipy/optimize/minpack.py:162: RuntimeWarning:\n",
      "\n",
      "The iteration is not making good progress, as measured by the \n",
      "  improvement from the last five Jacobian evaluations.\n",
      "\n"
     ]
    },
    {
     "name": "stdout",
     "output_type": "stream",
     "text": [
      "Fitted beta distribution with error=0.019676628574199943)\n",
      "Fitted gamma distribution with error=0.02576165547289492)\n",
      "Fitted uniform distribution with error=0.05642122232154933)\n",
      "Fitted norm distribution with error=0.019966296877903255)\n",
      "Fitted beta distribution with error=0.005158208830848034)\n",
      "Fitted gamma distribution with error=0.0066552232238699886)\n",
      "Fitted uniform distribution with error=0.011593953967661493)\n",
      "Fitted norm distribution with error=0.006547569422835707)\n",
      "Fitted beta distribution with error=0.0006365783996221259)\n",
      "Fitted gamma distribution with error=0.00134174570722847)\n",
      "Fitted uniform distribution with error=0.0015389995722214736)\n",
      "Fitted norm distribution with error=0.0022403604889079656)\n",
      "Fitted beta distribution with error=0.0011574716226318968)\n",
      "Fitted gamma distribution with error=0.001072987718158939)\n",
      "Fitted uniform distribution with error=0.002504747182845955)\n",
      "Fitted norm distribution with error=0.0023889836716007107)\n",
      "Fitted beta distribution with error=0.012764959715629147)\n",
      "Fitted gamma distribution with error=0.006805615947821292)\n",
      "Fitted uniform distribution with error=0.010079849823391449)\n",
      "Fitted norm distribution with error=0.006365895891036073)\n",
      "Fitted beta distribution with error=0.0013182399240094555)\n",
      "Fitted gamma distribution with error=0.002129794017963457)\n",
      "Fitted uniform distribution with error=0.0016622742573432373)\n",
      "Fitted norm distribution with error=0.0021274400529620653)\n",
      "Fitted beta distribution with error=0.000747372071450477)\n",
      "Fitted gamma distribution with error=0.0005315507903853339)\n",
      "Fitted uniform distribution with error=0.005741067527848931)\n",
      "Fitted norm distribution with error=0.004349637545601076)\n",
      "Fitted beta distribution with error=0.0017865094205131264)\n",
      "Fitted gamma distribution with error=0.0022978244999475213)\n",
      "Fitted uniform distribution with error=0.0022396386024083046)\n",
      "Fitted norm distribution with error=0.002756010015027809)\n",
      "Fitted beta distribution with error=7.797099993775934e-05)\n",
      "Fitted gamma distribution with error=7.949572043678722e-05)\n",
      "Fitted uniform distribution with error=0.0036685487498123895)\n",
      "Fitted norm distribution with error=8.33107076971927e-05)\n",
      "Fitted beta distribution with error=0.0023789774796542464)\n",
      "Fitted gamma distribution with error=0.0036346062337030663)\n",
      "Fitted uniform distribution with error=0.0026052502602338158)\n",
      "Fitted norm distribution with error=0.0036349469359995253)\n",
      "Fitted beta distribution with error=0.012148578195311469)\n",
      "Fitted gamma distribution with error=0.01686365740650499)\n",
      "Fitted uniform distribution with error=0.016639996127555616)\n",
      "Fitted norm distribution with error=0.016861331331887698)\n",
      "Fitted beta distribution with error=0.24589079023561092)\n",
      "Fitted gamma distribution with error=0.2956413032512491)\n",
      "Fitted uniform distribution with error=0.42300605895021476)\n",
      "Fitted norm distribution with error=0.3999789559121292)\n",
      "Fitted beta distribution with error=0.02030700361435168)\n",
      "Fitted gamma distribution with error=0.10103983711006694)\n",
      "Fitted uniform distribution with error=0.04168269223571271)\n",
      "Fitted norm distribution with error=0.04111565742610547)\n",
      "Fitted beta distribution with error=0.0029905500846753603)\n",
      "Fitted gamma distribution with error=0.002688353197381289)\n",
      "Fitted uniform distribution with error=0.004372359143999998)\n",
      "Fitted norm distribution with error=0.00354519836372817)\n",
      "Fitted beta distribution with error=0.031613248775271)\n",
      "Fitted gamma distribution with error=0.019207291166792352)\n",
      "Fitted uniform distribution with error=0.03798592182968769)\n",
      "Fitted norm distribution with error=0.03823095092797752)\n",
      "Fitted beta distribution with error=0.1314666544709266)\n",
      "Fitted gamma distribution with error=0.15706839784527787)\n",
      "Fitted uniform distribution with error=0.19357221121464957)\n",
      "Fitted norm distribution with error=0.1862448406812985)\n",
      "Fitted beta distribution with error=0.009870856052248734)\n",
      "Fitted gamma distribution with error=0.011188764079752455)\n",
      "Fitted uniform distribution with error=0.009945633530487202)\n",
      "Fitted norm distribution with error=0.011152446106973008)\n",
      "Fitted beta distribution with error=0.009056481135941895)\n",
      "Fitted gamma distribution with error=0.009702640766134519)\n",
      "Fitted uniform distribution with error=0.015816910902406865)\n",
      "Fitted norm distribution with error=0.012865812791827615)\n",
      "Fitted beta distribution with error=0.0013288056173221135)\n",
      "Fitted gamma distribution with error=0.0016537592515741813)\n",
      "Fitted uniform distribution with error=0.002235720650525757)\n",
      "Fitted norm distribution with error=0.001609001237615155)\n",
      "Fitted beta distribution with error=0.27084002585925854)\n",
      "Fitted gamma distribution with error=0.32348425093246713)\n",
      "Fitted uniform distribution with error=0.3219384233911815)\n",
      "Fitted norm distribution with error=0.3233998794876189)\n",
      "Fitted beta distribution with error=0.005275336801893158)\n",
      "Fitted gamma distribution with error=0.0047573132836739316)\n",
      "Fitted uniform distribution with error=0.005217733434933447)\n",
      "Fitted norm distribution with error=0.0046821331082761986)\n",
      "Fitted beta distribution with error=0.00037435482334203596)\n",
      "Fitted gamma distribution with error=0.0003163590150881817)\n",
      "Fitted uniform distribution with error=0.002047720157172735)\n",
      "Fitted norm distribution with error=0.0003163280934987203)\n",
      "Fitted beta distribution with error=0.0014545469794138934)\n",
      "Fitted gamma distribution with error=0.0017203816277825347)\n",
      "Fitted uniform distribution with error=0.001610838885114861)\n",
      "Fitted norm distribution with error=0.0018515755153377582)\n",
      "Fitted beta distribution with error=0.023578393029104455)\n",
      "Fitted gamma distribution with error=0.01760984332436278)\n",
      "Fitted uniform distribution with error=0.049226830447045546)\n",
      "Fitted norm distribution with error=0.04823866277985986)\n",
      "Fitted beta distribution with error=0.0001968938432425831)\n",
      "Fitted gamma distribution with error=0.00119773287402967)\n",
      "Fitted uniform distribution with error=0.0008133088739133427)\n",
      "Fitted norm distribution with error=0.0012180215297402709)\n",
      "Fitted beta distribution with error=0.011212427489507898)\n",
      "Fitted gamma distribution with error=0.012775239705391326)\n",
      "Fitted uniform distribution with error=0.011889219300307268)\n",
      "Fitted norm distribution with error=0.012759952701009606)\n",
      "Fitted beta distribution with error=0.0014817614185606354)\n",
      "Fitted gamma distribution with error=0.0014337891514051577)\n",
      "Fitted uniform distribution with error=0.0025221119908666327)\n",
      "Fitted norm distribution with error=0.0028435814824066116)\n",
      "Fitted beta distribution with error=0.000739294447481776)\n",
      "Fitted gamma distribution with error=0.0012124801842852712)\n",
      "Fitted uniform distribution with error=0.0028179205747324806)\n",
      "Fitted norm distribution with error=0.0010664610815640085)\n",
      "Fitted beta distribution with error=0.0008571125379783153)\n",
      "Fitted gamma distribution with error=0.000606793427055432)\n",
      "Fitted uniform distribution with error=0.002180944530745056)\n",
      "Fitted norm distribution with error=0.0018354277695087138)\n",
      "Fitted beta distribution with error=0.0003757430972175262)\n",
      "Fitted gamma distribution with error=0.0004248717581130476)\n",
      "Fitted uniform distribution with error=0.001658791110398513)\n",
      "Fitted norm distribution with error=0.0007323949569772576)\n",
      "Fitted beta distribution with error=0.01793542650815969)\n",
      "Fitted gamma distribution with error=0.06739726662684634)\n",
      "Fitted uniform distribution with error=0.02012887635849454)\n",
      "Fitted norm distribution with error=0.020250454786396633)\n",
      "Fitted beta distribution with error=0.0020063742117215717)\n",
      "Fitted gamma distribution with error=0.0023122621065590474)\n",
      "Fitted uniform distribution with error=0.002946862924594185)\n",
      "Fitted norm distribution with error=0.002255555265238814)\n",
      "Fitted beta distribution with error=0.004332497433993226)\n",
      "Fitted gamma distribution with error=0.00650545419308082)\n",
      "Fitted uniform distribution with error=0.006231040077300632)\n",
      "Fitted norm distribution with error=0.006501604822298258)\n",
      "Fitted beta distribution with error=0.000325837344580975)\n",
      "Fitted gamma distribution with error=0.0002812428669461758)\n",
      "Fitted uniform distribution with error=0.0014117881340895734)\n",
      "Fitted norm distribution with error=0.0003181015271371517)\n",
      "Fitted beta distribution with error=0.0005023009531297428)\n",
      "Fitted gamma distribution with error=0.00034874588017872843)\n",
      "Fitted uniform distribution with error=0.0021821273232297245)\n",
      "Fitted norm distribution with error=0.0014988644051806186)\n"
     ]
    },
    {
     "name": "stdout",
     "output_type": "stream",
     "text": [
      "Fitted beta distribution with error=0.03896509360283824)\n",
      "Fitted gamma distribution with error=0.048669688809044744)\n",
      "Fitted uniform distribution with error=0.05882784032814581)\n",
      "Fitted norm distribution with error=0.0595136523422242)\n",
      "Fitted beta distribution with error=0.0003345180694221552)\n",
      "Fitted gamma distribution with error=0.001220739469247855)\n",
      "Fitted uniform distribution with error=0.0005056091744099569)\n",
      "Fitted norm distribution with error=0.0012119624884081512)\n",
      "Fitted beta distribution with error=0.0011271498845291552)\n",
      "Fitted gamma distribution with error=0.0012580124785304607)\n",
      "Fitted uniform distribution with error=0.0020141256851294326)\n",
      "Fitted norm distribution with error=0.001217522626962316)\n",
      "Fitted beta distribution with error=0.026888806360180182)\n",
      "Fitted gamma distribution with error=0.03137164557567863)\n",
      "Fitted uniform distribution with error=0.030152412035629066)\n",
      "Fitted norm distribution with error=0.031360786860435724)\n",
      "Fitted beta distribution with error=0.03529690344913648)\n",
      "Fitted gamma distribution with error=0.012258712866919487)\n",
      "Fitted uniform distribution with error=0.05456157331727975)\n",
      "Fitted norm distribution with error=0.05137294946511219)\n",
      "Fitted beta distribution with error=0.0011328086396280718)\n",
      "Fitted gamma distribution with error=0.0011137208622044664)\n",
      "Fitted uniform distribution with error=0.001222511965041062)\n",
      "Fitted norm distribution with error=0.0018936831451700966)\n",
      "Fitted beta distribution with error=0.0010554292524154803)\n",
      "Fitted gamma distribution with error=0.0012611983066370578)\n",
      "Fitted uniform distribution with error=0.002621945479120407)\n",
      "Fitted norm distribution with error=0.0016587290235721601)\n",
      "Fitted beta distribution with error=0.0005089436126420077)\n",
      "Fitted gamma distribution with error=0.00041496281504964724)\n",
      "Fitted uniform distribution with error=0.002067568467841668)\n",
      "Fitted norm distribution with error=0.0007051539052854713)\n",
      "Fitted beta distribution with error=0.0045658266599192384)\n",
      "Fitted gamma distribution with error=0.008208829535665004)\n",
      "Fitted uniform distribution with error=0.029252635719918863)\n",
      "Fitted norm distribution with error=0.018833992699197794)\n",
      "Fitted beta distribution with error=0.0017645063038211342)\n",
      "Fitted gamma distribution with error=0.0017350245380422843)\n",
      "Fitted uniform distribution with error=0.004850614951165021)\n",
      "Fitted norm distribution with error=0.0026904022008974876)\n",
      "Fitted beta distribution with error=0.007138004694538465)\n",
      "Fitted gamma distribution with error=0.0030505718897329732)\n",
      "Fitted uniform distribution with error=0.008230389799414966)\n",
      "Fitted norm distribution with error=0.006099704981647921)\n",
      "Fitted beta distribution with error=0.1023569498772643)\n",
      "Fitted gamma distribution with error=0.27668694743292543)\n",
      "Fitted uniform distribution with error=0.4773890338620475)\n",
      "Fitted norm distribution with error=0.4546804821228075)\n",
      "Fitted beta distribution with error=0.0005004320493227554)\n",
      "Fitted gamma distribution with error=0.00048172253040871057)\n",
      "Fitted uniform distribution with error=0.0020666780711272514)\n",
      "Fitted norm distribution with error=0.0004885231100836776)\n",
      "Fitted beta distribution with error=0.09740431711566057)\n",
      "Fitted gamma distribution with error=0.08013881534672665)\n",
      "Fitted uniform distribution with error=0.13339464012127178)\n",
      "Fitted norm distribution with error=0.13408497434423353)\n",
      "Fitted beta distribution with error=0.0007894371672919936)\n",
      "Fitted gamma distribution with error=0.0008377905584049133)\n",
      "Fitted uniform distribution with error=0.0013106569268230167)\n",
      "Fitted norm distribution with error=0.0008673009601023434)\n",
      "Fitted beta distribution with error=0.00612983682806936)\n",
      "Fitted gamma distribution with error=0.005919065848294006)\n",
      "Fitted uniform distribution with error=0.007473647290813073)\n",
      "Fitted norm distribution with error=0.007371501297603465)\n",
      "Fitted beta distribution with error=0.0005921553599447353)\n",
      "Fitted gamma distribution with error=0.0004171205389030418)\n",
      "Fitted uniform distribution with error=0.0015024255928644628)\n",
      "Fitted norm distribution with error=0.001323118616913816)\n",
      "Fitted beta distribution with error=0.006618490760700839)\n",
      "Fitted gamma distribution with error=0.0061218914817446025)\n",
      "Fitted uniform distribution with error=0.011299121318923107)\n",
      "Fitted norm distribution with error=0.010580849391381979)\n",
      "Fitted beta distribution with error=0.002238202344731114)\n",
      "Fitted gamma distribution with error=0.003964265506408495)\n",
      "Fitted uniform distribution with error=0.004025184687034491)\n",
      "Fitted norm distribution with error=0.0037520882086480843)\n",
      "Fitted beta distribution with error=0.0007730116559967841)\n",
      "Fitted gamma distribution with error=0.0006149268032213316)\n",
      "Fitted uniform distribution with error=0.001864324676307786)\n",
      "Fitted norm distribution with error=0.0007803553024932436)\n",
      "Fitted beta distribution with error=0.010858514283152713)\n",
      "Fitted gamma distribution with error=0.010501378810599232)\n",
      "Fitted uniform distribution with error=0.011416272765119601)\n",
      "Fitted norm distribution with error=0.012121832331316735)\n",
      "Fitted beta distribution with error=0.0019127478061140755)\n",
      "Fitted gamma distribution with error=0.0013585399510446063)\n",
      "Fitted uniform distribution with error=0.0016438085211802943)\n",
      "Fitted norm distribution with error=0.0011833517912971424)\n",
      "Fitted beta distribution with error=0.0008101756072706899)\n",
      "Fitted gamma distribution with error=0.12040693775089478)\n",
      "Fitted uniform distribution with error=0.004069317372674155)\n",
      "Fitted norm distribution with error=0.0015135871001627783)\n",
      "Fitted beta distribution with error=0.004390743707554446)\n",
      "Fitted gamma distribution with error=0.00477107678620989)\n",
      "Fitted uniform distribution with error=0.005927464338660178)\n",
      "Fitted norm distribution with error=0.004657675384121293)\n",
      "Fitted beta distribution with error=0.011825683165220048)\n",
      "Fitted gamma distribution with error=0.01296469506775721)\n",
      "Fitted uniform distribution with error=0.012154484382433287)\n",
      "Fitted norm distribution with error=0.012931573592538428)\n",
      "Fitted beta distribution with error=0.003364976845282042)\n",
      "Fitted gamma distribution with error=0.0034284824408699964)\n",
      "Fitted uniform distribution with error=0.007384356529863613)\n",
      "Fitted norm distribution with error=0.005263379026138176)\n",
      "Fitted beta distribution with error=0.005626906860076343)\n",
      "Fitted gamma distribution with error=0.007634364080290703)\n",
      "Fitted uniform distribution with error=0.007385162856974688)\n",
      "Fitted norm distribution with error=0.007621933715432027)\n",
      "Fitted beta distribution with error=0.0002064849993437963)\n",
      "Fitted gamma distribution with error=0.00019418641652275306)\n",
      "Fitted uniform distribution with error=0.00203144564857589)\n",
      "Fitted norm distribution with error=0.000842793397260993)\n",
      "Fitted beta distribution with error=0.02646898997165518)\n",
      "Fitted gamma distribution with error=0.019633559873332204)\n",
      "Fitted uniform distribution with error=0.03327129517346616)\n",
      "Fitted norm distribution with error=0.032878243713582354)\n",
      "Fitted beta distribution with error=0.005374435295418456)\n",
      "Fitted gamma distribution with error=0.07527084545529189)\n",
      "Fitted uniform distribution with error=0.006844269210377981)\n",
      "Fitted norm distribution with error=0.00720274200286527)\n",
      "Fitted beta distribution with error=0.006516119577226969)\n",
      "Fitted gamma distribution with error=0.006512720877770739)\n",
      "Fitted uniform distribution with error=0.008486194208885614)\n",
      "Fitted norm distribution with error=0.006490232987079493)\n",
      "Fitted beta distribution with error=0.0003995864989840385)\n",
      "Fitted gamma distribution with error=0.0009991692006140179)\n",
      "Fitted uniform distribution with error=0.001184558943867911)\n",
      "Fitted norm distribution with error=0.0015148309787275092)\n",
      "Fitted beta distribution with error=0.005800915977911976)\n",
      "Fitted gamma distribution with error=0.005430613938925855)\n",
      "Fitted uniform distribution with error=0.007033014519035315)\n",
      "Fitted norm distribution with error=0.005359691206061002)\n",
      "Fitted beta distribution with error=0.0011556311586893345)\n",
      "Fitted gamma distribution with error=0.0012096231438641128)\n",
      "Fitted uniform distribution with error=0.003938630687207201)\n",
      "Fitted norm distribution with error=0.0016107878379104843)\n",
      "Fitted beta distribution with error=0.026305077298007504)\n",
      "Fitted gamma distribution with error=0.028545487383553374)\n",
      "Fitted uniform distribution with error=0.028735485895084383)\n",
      "Fitted norm distribution with error=0.02840399113737574)\n"
     ]
    },
    {
     "name": "stdout",
     "output_type": "stream",
     "text": [
      "Fitted beta distribution with error=0.00018035848399021063)\n",
      "Fitted gamma distribution with error=0.00018793001567789545)\n",
      "Fitted uniform distribution with error=0.0019718905901283646)\n",
      "Fitted norm distribution with error=0.0002539633713882482)\n",
      "Fitted beta distribution with error=0.005104451471423414)\n",
      "Fitted gamma distribution with error=0.005060855531854717)\n",
      "Fitted uniform distribution with error=0.005224189223507266)\n",
      "Fitted norm distribution with error=0.005055699720448675)\n",
      "Fitted beta distribution with error=0.0012039253936236846)\n",
      "Fitted gamma distribution with error=0.0015324395477191374)\n",
      "Fitted uniform distribution with error=0.0016594182118486896)\n",
      "Fitted norm distribution with error=0.0015382580408416398)\n",
      "Fitted beta distribution with error=0.004648015304864481)\n",
      "Fitted gamma distribution with error=0.002075292835601178)\n",
      "Fitted uniform distribution with error=0.0023359754852099075)\n",
      "Fitted norm distribution with error=0.002971703287884523)\n",
      "Fitted beta distribution with error=0.03470977118197845)\n",
      "Fitted gamma distribution with error=0.03893005568699979)\n",
      "Fitted uniform distribution with error=0.039440474465192964)\n",
      "Fitted norm distribution with error=0.03885289534855951)\n",
      "Fitted beta distribution with error=0.017932041647502825)\n",
      "Fitted gamma distribution with error=0.017928911344690147)\n",
      "Fitted uniform distribution with error=0.03211553112295968)\n",
      "Fitted norm distribution with error=0.01789991121331376)\n",
      "Fitted beta distribution with error=0.01960476100993311)\n",
      "Fitted gamma distribution with error=0.018127660791155086)\n",
      "Fitted uniform distribution with error=0.02425848908176432)\n",
      "Fitted norm distribution with error=0.017258346237012133)\n",
      "Fitted beta distribution with error=0.009922078145034752)\n",
      "Fitted gamma distribution with error=0.014878730995689904)\n",
      "Fitted uniform distribution with error=0.04937481070915537)\n",
      "Fitted norm distribution with error=0.04674037773308599)\n",
      "Fitted beta distribution with error=0.000603578763058185)\n",
      "Fitted gamma distribution with error=0.0007067594984501138)\n",
      "Fitted uniform distribution with error=0.0005887694207467419)\n",
      "Fitted norm distribution with error=0.0006836861823873537)\n",
      "Fitted beta distribution with error=0.002172952744924263)\n",
      "Fitted gamma distribution with error=0.003919795932282016)\n",
      "Fitted uniform distribution with error=0.0034669168007761255)\n",
      "Fitted norm distribution with error=0.003877246725299761)\n",
      "Fitted beta distribution with error=0.012787313805439045)\n",
      "Fitted gamma distribution with error=0.012005425608446602)\n",
      "Fitted uniform distribution with error=0.011671821158723268)\n",
      "Fitted norm distribution with error=0.011915101908333645)\n",
      "Fitted beta distribution with error=0.2765626709127916)\n",
      "Fitted gamma distribution with error=0.46238763247452525)\n",
      "Fitted uniform distribution with error=0.5610244009551404)\n",
      "Fitted norm distribution with error=0.5481198461852002)\n",
      "Fitted beta distribution with error=0.005370333817938286)\n",
      "Fitted gamma distribution with error=0.005286718781608651)\n",
      "Fitted uniform distribution with error=0.017097059283676972)\n",
      "Fitted norm distribution with error=0.00486978239659487)\n",
      "Fitted beta distribution with error=0.0007441482365408601)\n",
      "Fitted gamma distribution with error=0.0007422107513509607)\n",
      "Fitted uniform distribution with error=0.002216368840134813)\n",
      "Fitted norm distribution with error=0.0017593089692345375)\n",
      "Fitted beta distribution with error=0.002018655688745025)\n",
      "Fitted gamma distribution with error=0.0026102697032148762)\n",
      "Fitted uniform distribution with error=0.0023443972858321525)\n",
      "Fitted norm distribution with error=0.0033911275157384206)\n",
      "Fitted beta distribution with error=0.016049404315912005)\n",
      "Fitted gamma distribution with error=0.015531493387007206)\n",
      "Fitted uniform distribution with error=0.02104129241322818)\n",
      "Fitted norm distribution with error=0.020226130684747233)\n",
      "Fitted beta distribution with error=0.0005239287976840073)\n",
      "Fitted gamma distribution with error=0.0005242698610647201)\n",
      "Fitted uniform distribution with error=0.0025511805372173575)\n",
      "Fitted norm distribution with error=0.0009064646216630317)\n",
      "Fitted beta distribution with error=0.007316946631127352)\n",
      "Fitted gamma distribution with error=0.01724269583772264)\n",
      "Fitted uniform distribution with error=0.016266684741887506)\n",
      "Fitted norm distribution with error=0.017222989351311384)\n",
      "Fitted beta distribution with error=0.0026264929208281128)\n",
      "Fitted gamma distribution with error=0.002515015245422863)\n",
      "Fitted uniform distribution with error=0.003044580577780614)\n",
      "Fitted norm distribution with error=0.002753946090428348)\n",
      "Fitted beta distribution with error=0.004774025991486961)\n",
      "Fitted gamma distribution with error=0.08181971240984744)\n",
      "Fitted uniform distribution with error=0.027790019283627277)\n",
      "Fitted norm distribution with error=0.027283430603243394)\n",
      "Fitted beta distribution with error=0.004107414197622771)\n",
      "Fitted gamma distribution with error=0.003666010302319956)\n",
      "Fitted uniform distribution with error=0.007466228353889805)\n",
      "Fitted norm distribution with error=0.005192576832239633)\n",
      "Fitted beta distribution with error=0.0037840691634293496)\n",
      "Fitted gamma distribution with error=0.00399071336473963)\n",
      "Fitted uniform distribution with error=0.0050848294927380334)\n",
      "Fitted norm distribution with error=0.0038762718766834686)\n",
      "Fitted beta distribution with error=0.007540140431254921)\n",
      "Fitted gamma distribution with error=0.02694707674089633)\n",
      "Fitted uniform distribution with error=0.018147516763728964)\n",
      "Fitted norm distribution with error=0.013320377169985343)\n",
      "Fitted beta distribution with error=0.00014952176581748224)\n",
      "Fitted gamma distribution with error=0.00017388690807125295)\n",
      "Fitted uniform distribution with error=0.0022634469272194476)\n",
      "Fitted norm distribution with error=0.0001667596357253072)\n",
      "Fitted beta distribution with error=0.004459402608307008)\n",
      "Fitted gamma distribution with error=0.005363962697582123)\n",
      "Fitted uniform distribution with error=0.005359286546930059)\n",
      "Fitted norm distribution with error=0.005365032457363291)\n",
      "Fitted beta distribution with error=0.0008055206120636756)\n",
      "Fitted gamma distribution with error=0.001032991214166404)\n",
      "Fitted uniform distribution with error=0.0021672992526683876)\n",
      "Fitted norm distribution with error=0.0012211937703765364)\n",
      "Fitted beta distribution with error=0.0001572977955304869)\n",
      "Fitted gamma distribution with error=0.00023922926690670535)\n",
      "Fitted uniform distribution with error=0.0008116050718622901)\n",
      "Fitted norm distribution with error=0.00039851014282758725)\n",
      "Fitted beta distribution with error=0.0008960901237642677)\n",
      "Fitted gamma distribution with error=0.0015381745612691405)\n",
      "Fitted uniform distribution with error=0.0010672031888190685)\n",
      "Fitted norm distribution with error=0.0015080748580186972)\n",
      "Fitted beta distribution with error=0.0036518334827327957)\n",
      "Fitted gamma distribution with error=0.005534445572666652)\n",
      "Fitted uniform distribution with error=0.01940274795395199)\n",
      "Fitted norm distribution with error=0.01571980494766586)\n",
      "Fitted beta distribution with error=0.005179648507621628)\n",
      "Fitted gamma distribution with error=0.006459794986244137)\n",
      "Fitted uniform distribution with error=0.02540492135038048)\n",
      "Fitted norm distribution with error=0.013645852495625421)\n",
      "Fitted beta distribution with error=0.05930575809407465)\n",
      "Fitted gamma distribution with error=0.9026379486839322)\n",
      "Fitted uniform distribution with error=0.09554197574430941)\n",
      "Fitted norm distribution with error=0.036128818055640846)\n",
      "Fitted beta distribution with error=0.003906533472888641)\n",
      "Fitted gamma distribution with error=0.005454949466174717)\n",
      "Fitted uniform distribution with error=0.00906022885516506)\n",
      "Fitted norm distribution with error=0.005358550110789627)\n",
      "Fitted beta distribution with error=0.0063344371043180785)\n",
      "Fitted gamma distribution with error=0.006033542666467318)\n",
      "Fitted uniform distribution with error=0.012712559663885528)\n",
      "Fitted norm distribution with error=0.011979863853591437)\n",
      "Fitted beta distribution with error=0.0011574716226318968)\n",
      "Fitted gamma distribution with error=0.001072987718158939)\n",
      "Fitted uniform distribution with error=0.002504747182845955)\n",
      "Fitted norm distribution with error=0.0023889836716007107)\n",
      "Fitted beta distribution with error=0.01469597161505565)\n",
      "Fitted gamma distribution with error=0.07966774678521454)\n",
      "Fitted uniform distribution with error=0.010738833498323618)\n",
      "Fitted norm distribution with error=0.00654631840596873)\n"
     ]
    },
    {
     "name": "stdout",
     "output_type": "stream",
     "text": [
      "Fitted beta distribution with error=0.0015322491675686667)\n",
      "Fitted gamma distribution with error=0.002656546736149704)\n",
      "Fitted uniform distribution with error=0.002083986674783668)\n",
      "Fitted norm distribution with error=0.0026572729401291117)\n",
      "Fitted beta distribution with error=0.005659625832513801)\n",
      "Fitted gamma distribution with error=0.0011505522704378566)\n",
      "Fitted uniform distribution with error=0.025738296847294773)\n",
      "Fitted norm distribution with error=0.02437120158658437)\n",
      "Fitted beta distribution with error=0.0024032017876429368)\n",
      "Fitted gamma distribution with error=0.0029325997053129874)\n",
      "Fitted uniform distribution with error=0.0025036504162029988)\n",
      "Fitted norm distribution with error=0.0033362817252310557)\n",
      "Fitted beta distribution with error=8.91259817400299e-05)\n",
      "Fitted gamma distribution with error=0.00011452427198149444)\n",
      "Fitted uniform distribution with error=0.003948029161367345)\n",
      "Fitted norm distribution with error=9.847544320254291e-05)\n",
      "Fitted beta distribution with error=0.0023789774796542464)\n",
      "Fitted gamma distribution with error=0.0036346062337030663)\n",
      "Fitted uniform distribution with error=0.0026052502602338158)\n",
      "Fitted norm distribution with error=0.0036349469359995253)\n",
      "Fitted beta distribution with error=0.013567514049682705)\n",
      "Fitted gamma distribution with error=0.01763117413521559)\n",
      "Fitted uniform distribution with error=0.022075019145009707)\n",
      "Fitted norm distribution with error=0.022243312178330456)\n",
      "Fitted beta distribution with error=0.08125701905346029)\n",
      "Fitted gamma distribution with error=0.3614228172555578)\n",
      "Fitted uniform distribution with error=0.44279142343176375)\n",
      "Fitted norm distribution with error=0.41443159498461807)\n",
      "Fitted beta distribution with error=0.02493077145367201)\n",
      "Fitted gamma distribution with error=0.10985031599238022)\n",
      "Fitted uniform distribution with error=0.02042614619465886)\n",
      "Fitted norm distribution with error=0.020118346525221452)\n",
      "Fitted beta distribution with error=0.002773979625133107)\n",
      "Fitted gamma distribution with error=0.0023575246471660297)\n",
      "Fitted uniform distribution with error=0.004397747264435032)\n",
      "Fitted norm distribution with error=0.002839501925836294)\n",
      "Fitted beta distribution with error=0.010473491952108194)\n",
      "Fitted gamma distribution with error=0.012356954197688893)\n",
      "Fitted uniform distribution with error=0.05974546764298111)\n",
      "Fitted norm distribution with error=0.05908222997069781)\n",
      "Fitted beta distribution with error=0.07700337911777473)\n",
      "Fitted gamma distribution with error=0.08452131909793707)\n",
      "Fitted uniform distribution with error=0.0936914709456348)\n",
      "Fitted norm distribution with error=0.08995512060551228)\n",
      "Fitted beta distribution with error=0.008715795322310042)\n",
      "Fitted gamma distribution with error=0.010725575864072792)\n",
      "Fitted uniform distribution with error=0.009379586231770232)\n",
      "Fitted norm distribution with error=0.010679470920618377)\n",
      "Fitted beta distribution with error=0.007653479363302916)\n",
      "Fitted gamma distribution with error=0.006232003596988868)\n",
      "Fitted uniform distribution with error=0.019074174198458145)\n",
      "Fitted norm distribution with error=0.014429228791425453)\n",
      "Fitted beta distribution with error=0.00038624093134315986)\n",
      "Fitted gamma distribution with error=0.0005307843213534235)\n",
      "Fitted uniform distribution with error=0.0012970022966469854)\n",
      "Fitted norm distribution with error=0.0009901996164803917)\n",
      "Fitted beta distribution with error=0.27193810754482856)\n",
      "Fitted gamma distribution with error=0.324635285413411)\n",
      "Fitted uniform distribution with error=0.32307199488031874)\n",
      "Fitted norm distribution with error=0.3245336581206129)\n",
      "Fitted beta distribution with error=0.007030620196307524)\n",
      "Fitted gamma distribution with error=0.006179950529578203)\n",
      "Fitted uniform distribution with error=0.0068823444916070245)\n",
      "Fitted norm distribution with error=0.006104845245203778)\n",
      "Fitted beta distribution with error=0.0012025261043538014)\n",
      "Fitted gamma distribution with error=0.0014875472629963752)\n",
      "Fitted uniform distribution with error=0.0021191707992182255)\n",
      "Fitted norm distribution with error=0.0014815941493526686)\n",
      "Fitted beta distribution with error=0.0011804278587253772)\n",
      "Fitted gamma distribution with error=0.0019459634660220777)\n",
      "Fitted uniform distribution with error=0.002034830420143018)\n",
      "Fitted norm distribution with error=0.002802510996100566)\n",
      "Fitted beta distribution with error=0.07599366453799486)\n",
      "Fitted gamma distribution with error=0.05619237449843076)\n",
      "Fitted uniform distribution with error=0.14207821644443705)\n",
      "Fitted norm distribution with error=0.13763341154164638)\n",
      "Fitted beta distribution with error=0.002864075468540216)\n",
      "Fitted gamma distribution with error=0.002049638434302708)\n",
      "Fitted uniform distribution with error=0.005900271022147365)\n",
      "Fitted norm distribution with error=0.005561036765538122)\n",
      "Fitted beta distribution with error=0.011420378313403843)\n",
      "Fitted gamma distribution with error=0.01292053950032184)\n",
      "Fitted uniform distribution with error=0.012011693328465049)\n",
      "Fitted norm distribution with error=0.012906152673594549)\n",
      "Fitted beta distribution with error=0.0013424331160740784)\n",
      "Fitted gamma distribution with error=0.0012020762347572551)\n",
      "Fitted uniform distribution with error=0.003345395037069084)\n",
      "Fitted norm distribution with error=0.0035234754521127625)\n",
      "Fitted beta distribution with error=0.0008674328874981366)\n",
      "Fitted gamma distribution with error=0.0011002469621104218)\n",
      "Fitted uniform distribution with error=0.002738254784844061)\n",
      "Fitted norm distribution with error=0.0010145161773955247)\n",
      "Fitted beta distribution with error=0.0022378462218262925)\n",
      "Fitted gamma distribution with error=0.000993983578647687)\n",
      "Fitted uniform distribution with error=0.0038762386649916643)\n",
      "Fitted norm distribution with error=0.0028892888720027992)\n",
      "Fitted beta distribution with error=0.00027712806861307325)\n",
      "Fitted gamma distribution with error=0.00028585176316455943)\n",
      "Fitted uniform distribution with error=0.0020608816253206473)\n",
      "Fitted norm distribution with error=0.0006873112042696396)\n",
      "Fitted beta distribution with error=0.024065980502952812)\n",
      "Fitted gamma distribution with error=0.08131679923484335)\n",
      "Fitted uniform distribution with error=0.026758111216135243)\n",
      "Fitted norm distribution with error=0.026803884845180145)\n",
      "Fitted beta distribution with error=0.004015620046953605)\n",
      "Fitted gamma distribution with error=0.00450050560349648)\n",
      "Fitted uniform distribution with error=0.004909523560767418)\n",
      "Fitted norm distribution with error=0.004427372409374859)\n",
      "Fitted beta distribution with error=0.00317802508087474)\n",
      "Fitted gamma distribution with error=0.0030844001280677475)\n",
      "Fitted uniform distribution with error=0.006533651929451814)\n",
      "Fitted norm distribution with error=0.0057221947037490225)\n",
      "Fitted beta distribution with error=0.001283136348185187)\n",
      "Fitted gamma distribution with error=0.0012831264900435575)\n",
      "Fitted uniform distribution with error=0.005255195750668792)\n",
      "Fitted norm distribution with error=0.0011088801815928835)\n",
      "Fitted beta distribution with error=0.00046487850731496836)\n",
      "Fitted gamma distribution with error=0.00032546337778376533)\n",
      "Fitted uniform distribution with error=0.001824727091031165)\n",
      "Fitted norm distribution with error=0.0016553170636137684)\n",
      "Fitted beta distribution with error=0.05323568249099485)\n",
      "Fitted gamma distribution with error=0.045545707396020256)\n",
      "Fitted uniform distribution with error=0.059450008964919504)\n",
      "Fitted norm distribution with error=0.06020882438602959)\n",
      "Fitted beta distribution with error=0.0004219779434762335)\n",
      "Fitted gamma distribution with error=0.0012355277418902382)\n",
      "Fitted uniform distribution with error=0.0005145434131121538)\n",
      "Fitted norm distribution with error=0.0012357893921979063)\n",
      "Fitted beta distribution with error=0.0018792473490670271)\n",
      "Fitted gamma distribution with error=0.002396210728724929)\n",
      "Fitted uniform distribution with error=0.002205651269643286)\n",
      "Fitted norm distribution with error=0.0023752848267018737)\n",
      "Fitted beta distribution with error=0.026895193288393647)\n",
      "Fitted gamma distribution with error=0.03137963201124147)\n",
      "Fitted uniform distribution with error=0.030158590025500392)\n",
      "Fitted norm distribution with error=0.03136698152737288)\n",
      "Fitted beta distribution with error=0.039533753973458964)\n",
      "Fitted gamma distribution with error=0.00563183901354401)\n",
      "Fitted uniform distribution with error=0.07047362120564411)\n",
      "Fitted norm distribution with error=0.0654048422822938)\n"
     ]
    },
    {
     "name": "stdout",
     "output_type": "stream",
     "text": [
      "Fitted beta distribution with error=0.006992724272837648)\n",
      "Fitted gamma distribution with error=0.008209212746538916)\n",
      "Fitted uniform distribution with error=0.008413403575675889)\n",
      "Fitted norm distribution with error=0.009314934360604807)\n",
      "Fitted beta distribution with error=0.0014725327314207756)\n",
      "Fitted gamma distribution with error=0.0019067072309912208)\n",
      "Fitted uniform distribution with error=0.003164034249352984)\n",
      "Fitted norm distribution with error=0.0015674793372046324)\n",
      "Fitted beta distribution with error=0.004223970140213486)\n",
      "Fitted gamma distribution with error=0.005785323924001236)\n",
      "Fitted uniform distribution with error=0.012115363934959171)\n",
      "Fitted norm distribution with error=0.010700345995108634)\n",
      "Fitted beta distribution with error=0.01999502476796897)\n",
      "Fitted gamma distribution with error=0.09183302326860882)\n",
      "Fitted uniform distribution with error=0.044047273357151744)\n",
      "Fitted norm distribution with error=0.03271530268118258)\n",
      "Fitted beta distribution with error=0.005381946757863906)\n",
      "Fitted gamma distribution with error=0.12145059367993524)\n",
      "Fitted uniform distribution with error=0.005976387626515138)\n",
      "Fitted norm distribution with error=0.00395108958339969)\n",
      "Fitted beta distribution with error=0.012620716170134258)\n",
      "Fitted gamma distribution with error=0.09978094174366742)\n",
      "Fitted uniform distribution with error=0.008292587151169277)\n",
      "Fitted norm distribution with error=0.005527140314741554)\n",
      "Fitted beta distribution with error=1.0640898074320293)\n",
      "Fitted gamma distribution with error=1.1907795510728183)\n",
      "Fitted uniform distribution with error=2.251301962089651)\n",
      "Fitted norm distribution with error=2.043799200498469)\n",
      "Fitted beta distribution with error=0.001425667756128614)\n",
      "Fitted gamma distribution with error=0.0014359611454813313)\n",
      "Fitted uniform distribution with error=0.0029888151574726973)\n",
      "Fitted norm distribution with error=0.0016637643907380048)\n",
      "Fitted beta distribution with error=0.07755673147026645)\n",
      "Fitted gamma distribution with error=0.050879029381281304)\n",
      "Fitted uniform distribution with error=0.1415658270446933)\n",
      "Fitted norm distribution with error=0.141001809313553)\n",
      "Fitted beta distribution with error=0.00496210374086852)\n",
      "Fitted gamma distribution with error=0.007360605050787929)\n",
      "Fitted uniform distribution with error=0.008013418428809434)\n",
      "Fitted norm distribution with error=0.007197554607454509)\n",
      "Fitted beta distribution with error=0.005850252878114796)\n",
      "Fitted gamma distribution with error=0.0025859067876601747)\n",
      "Fitted uniform distribution with error=0.004653229910221914)\n",
      "Fitted norm distribution with error=0.004877912720091616)\n",
      "Fitted beta distribution with error=0.0002273496909107005)\n",
      "Fitted gamma distribution with error=0.0002263238342723363)\n",
      "Fitted uniform distribution with error=0.004833260848663645)\n",
      "Fitted norm distribution with error=0.0012155367704488529)\n",
      "Fitted beta distribution with error=0.010122559255354373)\n",
      "Fitted gamma distribution with error=0.004292765719822179)\n",
      "Fitted uniform distribution with error=0.016206281175190438)\n",
      "Fitted norm distribution with error=0.015168105004288513)\n",
      "Fitted beta distribution with error=0.0016492739219137803)\n",
      "Fitted gamma distribution with error=0.0028008471033893288)\n",
      "Fitted uniform distribution with error=0.003204154909148283)\n",
      "Fitted norm distribution with error=0.002702236878758134)\n",
      "Fitted beta distribution with error=0.002792681116218625)\n",
      "Fitted gamma distribution with error=0.0018426879724354316)\n",
      "Fitted uniform distribution with error=0.0013725455657379504)\n",
      "Fitted norm distribution with error=0.0018694613558935267)\n",
      "Fitted beta distribution with error=0.011139774192192175)\n",
      "Fitted gamma distribution with error=0.010349120457082259)\n",
      "Fitted uniform distribution with error=0.011771425786127023)\n",
      "Fitted norm distribution with error=0.012359791932792703)\n",
      "Fitted beta distribution with error=0.0021567897649291366)\n",
      "Fitted gamma distribution with error=0.0014190982494206045)\n",
      "Fitted uniform distribution with error=0.00159802936054915)\n",
      "Fitted norm distribution with error=0.0011943547816481801)\n",
      "Fitted beta distribution with error=0.0069701151036875)\n",
      "Fitted gamma distribution with error=0.1406582151621826)\n",
      "Fitted uniform distribution with error=0.007780327137614791)\n",
      "Fitted norm distribution with error=0.0038294237106673446)\n",
      "Fitted beta distribution with error=0.003481952233503237)\n",
      "Fitted gamma distribution with error=0.003918270646151472)\n",
      "Fitted uniform distribution with error=0.004789891071536708)\n",
      "Fitted norm distribution with error=0.003814887874817675)\n",
      "Fitted beta distribution with error=0.012355418336025973)\n",
      "Fitted gamma distribution with error=0.014106138464182117)\n",
      "Fitted uniform distribution with error=0.012959331005196757)\n",
      "Fitted norm distribution with error=0.014084403376712854)\n",
      "Fitted beta distribution with error=0.01708946111537435)\n",
      "Fitted gamma distribution with error=0.05272592192580102)\n",
      "Fitted uniform distribution with error=0.08347807006957744)\n",
      "Fitted norm distribution with error=0.07871860007981864)\n",
      "Fitted beta distribution with error=0.008834900583185522)\n",
      "Fitted gamma distribution with error=0.021109453908646658)\n",
      "Fitted uniform distribution with error=0.020746049377989528)\n",
      "Fitted norm distribution with error=0.021007194449889396)\n",
      "Fitted beta distribution with error=0.001629146592559385)\n",
      "Fitted gamma distribution with error=0.004327448503757573)\n",
      "Fitted uniform distribution with error=0.013023980070113638)\n",
      "Fitted norm distribution with error=0.0076385057118641166)\n",
      "Fitted beta distribution with error=0.02646898997165518)\n",
      "Fitted gamma distribution with error=0.019633559873332204)\n",
      "Fitted uniform distribution with error=0.03327129517346616)\n",
      "Fitted norm distribution with error=0.032878243713582354)\n",
      "Fitted beta distribution with error=0.00408624903082993)\n",
      "Fitted gamma distribution with error=0.012141648320463197)\n",
      "Fitted uniform distribution with error=0.011298470987144548)\n",
      "Fitted norm distribution with error=0.012033766102608746)\n",
      "Fitted beta distribution with error=0.006719291648686591)\n",
      "Fitted gamma distribution with error=0.08596571964945847)\n",
      "Fitted uniform distribution with error=0.009001010752868008)\n",
      "Fitted norm distribution with error=0.007637743236085296)\n",
      "Fitted beta distribution with error=0.0009656341676036195)\n",
      "Fitted gamma distribution with error=0.0011228277979464635)\n",
      "Fitted uniform distribution with error=0.006246502518359871)\n",
      "Fitted norm distribution with error=0.006092818340472771)\n",
      "Fitted beta distribution with error=0.004679256292880252)\n",
      "Fitted gamma distribution with error=0.006999562386178419)\n",
      "Fitted uniform distribution with error=0.010176280711748737)\n",
      "Fitted norm distribution with error=0.007247385646764845)\n",
      "Fitted beta distribution with error=0.0016214794910773711)\n",
      "Fitted gamma distribution with error=0.0016600829295346452)\n",
      "Fitted uniform distribution with error=0.003780983693385395)\n",
      "Fitted norm distribution with error=0.0021710696827550112)\n",
      "Fitted beta distribution with error=0.024468260525976823)\n",
      "Fitted gamma distribution with error=0.029136078930797213)\n",
      "Fitted uniform distribution with error=0.029133066479891334)\n",
      "Fitted norm distribution with error=0.02894530643953611)\n",
      "Fitted beta distribution with error=0.0004529303608016283)\n",
      "Fitted gamma distribution with error=0.0006160237224916204)\n",
      "Fitted uniform distribution with error=0.004047700916394863)\n",
      "Fitted norm distribution with error=0.0030471278385067095)\n",
      "Fitted beta distribution with error=0.005588201705711305)\n",
      "Fitted gamma distribution with error=0.00621051198148533)\n",
      "Fitted uniform distribution with error=0.006120068964163375)\n",
      "Fitted norm distribution with error=0.006600137097836982)\n",
      "Fitted beta distribution with error=0.002168284197255725)\n",
      "Fitted gamma distribution with error=0.0033688587198469483)\n",
      "Fitted uniform distribution with error=0.0029879268247214666)\n",
      "Fitted norm distribution with error=0.0033892811783676306)\n",
      "Fitted beta distribution with error=0.002318153102555125)\n",
      "Fitted gamma distribution with error=0.002552135139130569)\n",
      "Fitted uniform distribution with error=0.0024035072018494903)\n",
      "Fitted norm distribution with error=0.0031161169179955957)\n",
      "Fitted beta distribution with error=0.03330629644061536)\n",
      "Fitted gamma distribution with error=0.0393776773221777)\n",
      "Fitted uniform distribution with error=0.03943956818642543)\n",
      "Fitted norm distribution with error=0.03926021840140128)\n"
     ]
    },
    {
     "name": "stdout",
     "output_type": "stream",
     "text": [
      "Fitted beta distribution with error=0.04581810476493319)\n",
      "Fitted gamma distribution with error=0.04654974814663439)\n",
      "Fitted uniform distribution with error=0.07046596032182742)\n",
      "Fitted norm distribution with error=0.05031816186766768)\n",
      "Fitted beta distribution with error=0.026561812257817338)\n",
      "Fitted gamma distribution with error=0.016975348544000016)\n",
      "Fitted uniform distribution with error=0.02302247330479327)\n",
      "Fitted norm distribution with error=0.014488739094017093)\n",
      "Fitted beta distribution with error=0.012585545879043553)\n",
      "Fitted gamma distribution with error=0.01242631727695151)\n",
      "Fitted uniform distribution with error=0.05745066899350554)\n",
      "Fitted norm distribution with error=0.054649436716289024)\n",
      "Fitted beta distribution with error=0.000603578763058185)\n",
      "Fitted gamma distribution with error=0.0007067594984501138)\n",
      "Fitted uniform distribution with error=0.0005887694207467419)\n",
      "Fitted norm distribution with error=0.0006836861823873537)\n",
      "Fitted beta distribution with error=0.01680671726617808)\n",
      "Fitted gamma distribution with error=0.01765614941972808)\n",
      "Fitted uniform distribution with error=0.01783260746538311)\n",
      "Fitted norm distribution with error=0.01932311012941057)\n",
      "Fitted beta distribution with error=0.010706018820561203)\n",
      "Fitted gamma distribution with error=0.01239844635588216)\n",
      "Fitted uniform distribution with error=0.011229787063369445)\n",
      "Fitted norm distribution with error=0.01235835686031706)\n",
      "Fitted beta distribution with error=0.22037476623762273)\n",
      "Fitted gamma distribution with error=0.40555120844746095)\n",
      "Fitted uniform distribution with error=0.5941895918663216)\n",
      "Fitted norm distribution with error=0.5734241672424578)\n",
      "Fitted beta distribution with error=0.015227581960180933)\n",
      "Fitted gamma distribution with error=0.016029884602634985)\n",
      "Fitted uniform distribution with error=0.03448742948395146)\n",
      "Fitted norm distribution with error=0.015140379664556614)\n",
      "Fitted beta distribution with error=0.0018671671990267494)\n",
      "Fitted gamma distribution with error=0.001864696278591255)\n",
      "Fitted uniform distribution with error=0.006450550523440713)\n",
      "Fitted norm distribution with error=0.003934423355564743)\n",
      "Fitted beta distribution with error=0.0026425229414824562)\n",
      "Fitted gamma distribution with error=0.0018756479503398652)\n",
      "Fitted uniform distribution with error=0.0023437613731413552)\n",
      "Fitted norm distribution with error=0.002802229793758333)\n",
      "Fitted beta distribution with error=0.01289498398917679)\n",
      "Fitted gamma distribution with error=0.012246226493095244)\n",
      "Fitted uniform distribution with error=0.021294821884384897)\n",
      "Fitted norm distribution with error=0.019091817464688358)\n",
      "Fitted beta distribution with error=0.00043617254148593104)\n",
      "Fitted gamma distribution with error=0.00043187439909148404)\n",
      "Fitted uniform distribution with error=0.0024365377921338107)\n",
      "Fitted norm distribution with error=0.0006998634977591756)\n",
      "Fitted beta distribution with error=0.013351866676316526)\n",
      "Fitted gamma distribution with error=0.011057647188866744)\n",
      "Fitted uniform distribution with error=0.021092750953545698)\n",
      "Fitted norm distribution with error=0.017809981440166187)\n",
      "Fitted beta distribution with error=0.013445924408777472)\n",
      "Fitted gamma distribution with error=0.046637187088177504)\n",
      "Fitted uniform distribution with error=0.10050003204918857)\n",
      "Fitted norm distribution with error=0.06440379955062914)\n",
      "Fitted beta distribution with error=0.00377794384922574)\n",
      "Fitted gamma distribution with error=0.07412707992618262)\n",
      "Fitted uniform distribution with error=0.025614701394873676)\n",
      "Fitted norm distribution with error=0.025099554989229562)\n",
      "Fitted beta distribution with error=0.002760042036861774)\n",
      "Fitted gamma distribution with error=0.003475687968266491)\n",
      "Fitted uniform distribution with error=0.0033335183288800536)\n",
      "Fitted norm distribution with error=0.003376272976078424)\n",
      "Fitted beta distribution with error=0.003298160229147064)\n",
      "Fitted gamma distribution with error=0.0037217564474051846)\n",
      "Fitted uniform distribution with error=0.003473607562257279)\n",
      "Fitted norm distribution with error=0.0036568877954613744)\n",
      "Fitted beta distribution with error=0.005091636757353161)\n",
      "Fitted gamma distribution with error=0.023949960806936448)\n",
      "Fitted uniform distribution with error=0.016639549593547298)\n",
      "Fitted norm distribution with error=0.011793053255004947)\n",
      "Fitted beta distribution with error=0.0038966573474578264)\n",
      "Fitted gamma distribution with error=0.00541985203352183)\n",
      "Fitted uniform distribution with error=0.006009598707141844)\n",
      "Fitted norm distribution with error=0.005364380046448446)\n",
      "Fitted beta distribution with error=0.004022647746889144)\n",
      "Fitted gamma distribution with error=0.004468046092151783)\n",
      "Fitted uniform distribution with error=0.005507346778908039)\n",
      "Fitted norm distribution with error=0.004499549632540075)\n",
      "Fitted beta distribution with error=0.0015001433603138417)\n",
      "Fitted gamma distribution with error=0.0015160330136545772)\n",
      "Fitted uniform distribution with error=0.004018095222053963)\n",
      "Fitted norm distribution with error=0.002942304471829528)\n",
      "Fitted beta distribution with error=0.0004827692426106458)\n",
      "Fitted gamma distribution with error=0.0014918612145050504)\n",
      "Fitted uniform distribution with error=0.0010345487123651815)\n",
      "Fitted norm distribution with error=0.0015190089909433084)\n",
      "Fitted beta distribution with error=0.0011859118591089643)\n",
      "Fitted gamma distribution with error=0.002094563477425722)\n",
      "Fitted uniform distribution with error=0.001396250945159585)\n",
      "Fitted norm distribution with error=0.002088217498505238)\n",
      "Fitted beta distribution with error=0.0031279838662732072)\n",
      "Fitted gamma distribution with error=0.01786850990075161)\n",
      "Fitted uniform distribution with error=0.056673968813217804)\n",
      "Fitted norm distribution with error=0.04977786445434302)\n",
      "Fitted beta distribution with error=0.008617062005685312)\n",
      "Fitted gamma distribution with error=0.023645267688846817)\n",
      "Fitted uniform distribution with error=0.026300786470369052)\n",
      "Fitted norm distribution with error=0.009488815098311012)\n",
      "Fitted beta distribution with error=0.03722738071043012)\n",
      "Fitted gamma distribution with error=0.10230077493615641)\n",
      "Fitted uniform distribution with error=0.0942116994083459)\n",
      "Fitted norm distribution with error=0.0495851474585902)\n",
      "Fitted beta distribution with error=0.002927206355769302)\n",
      "Fitted gamma distribution with error=0.004520181554281859)\n",
      "Fitted uniform distribution with error=0.006785404319896984)\n",
      "Fitted norm distribution with error=0.004440537631642588)\n",
      "Fitted beta distribution with error=0.010708185234558664)\n",
      "Fitted gamma distribution with error=0.05722321066403115)\n",
      "Fitted uniform distribution with error=0.07855284516152988)\n",
      "Fitted norm distribution with error=0.07357477171775703)\n"
     ]
    }
   ],
   "source": [
    "for name, num in COLOR.items():\n",
    "    for image_name in image_names[:100]:\n",
    "        image = np.array(Image.open(os.path.join(DIRNAME, image_name)))\n",
    "        a = image[:, :, num].ravel()\n",
    "        f = Fitter(a, distributions=DISTRIBUTIONS, bins=BINS)\n",
    "        f.fit()\n",
    "        hist[name][f.df_errors['sumsquare_error'].idxmin()] += 1\n",
    "        "
   ]
  },
  {
   "cell_type": "code",
   "execution_count": 40,
   "metadata": {},
   "outputs": [
    {
     "data": {
      "text/plain": [
       "{'red': defaultdict(int, {'gamma': 32, 'beta': 65, 'norm': 6, 'uniform': 2}),\n",
       " 'green': defaultdict(int,\n",
       "             {'gamma': 31, 'norm': 12, 'beta': 60, 'uniform': 2}),\n",
       " 'blue': defaultdict(int, {'gamma': 26, 'norm': 11, 'beta': 66, 'uniform': 2})}"
      ]
     },
     "execution_count": 40,
     "metadata": {},
     "output_type": "execute_result"
    }
   ],
   "source": [
    "hist"
   ]
  },
  {
   "cell_type": "code",
   "execution_count": 41,
   "metadata": {},
   "outputs": [
    {
     "data": {
      "image/png": "[encoded data removed]",
      "text/plain": [
       "<Figure size 432x288 with 1 Axes>"
      ]
     },
     "metadata": {
      "needs_background": "light"
     },
     "output_type": "display_data"
    }
   ],
   "source": [
    "N = 3\n",
    "beta = (60, 56, 77)\n",
    "gamma = (35, 36, 41)\n",
    "norm = (12, 10, 13)\n",
    "uniform = (3, 8, 3)\n",
    "\n",
    "ind = np.arange(N)    # the x locations for the groups\n",
    "width = 0.55       # the width of the bars: can also be len(x) sequence\n",
    "\n",
    "\n",
    "p1 = plt.bar(ind, beta, width)\n",
    "p2 = plt.bar(ind, gamma, width)\n",
    "p3 = plt.bar(ind, norm, width)\n",
    "p4 = plt.bar(ind, uniform, width)\n",
    "\n",
    "plt.ylabel('Кількість зображень')\n",
    "plt.xticks(ind, ('blue', 'green', 'red'))\n",
    "#plt.yticks(np.arange(0, 81, 10))\n",
    "plt.legend((p1[0], p2[0], p3[0], p4[0],), ('beta', 'gamma', 'norm', 'uniform'))\n",
    "\n",
    "plt.show()"
   ]
  },
  {
   "cell_type": "code",
   "execution_count": 42,
   "metadata": {},
   "outputs": [
    {
     "name": "stdout",
     "output_type": "stream",
     "text": [
      "Fitted beta distribution with error=6.567785943450681e-05)\n",
      "Fitted gamma distribution with error=6.481430391479236e-05)\n",
      "Fitted uniform distribution with error=0.0028979694620065244)\n",
      "Fitted norm distribution with error=6.290255030908354e-05)\n"
     ]
    },
    {
     "data": {
      "text/html": [
       "<div>\n",
       "<style scoped>\n",
       "    .dataframe tbody tr th:only-of-type {\n",
       "        vertical-align: middle;\n",
       "    }\n",
       "\n",
       "    .dataframe tbody tr th {\n",
       "        vertical-align: top;\n",
       "    }\n",
       "\n",
       "    .dataframe thead th {\n",
       "        text-align: right;\n",
       "    }\n",
       "</style>\n",
       "<table border=\"1\" class=\"dataframe\">\n",
       "  <thead>\n",
       "    <tr style=\"text-align: right;\">\n",
       "      <th></th>\n",
       "      <th>sumsquare_error</th>\n",
       "    </tr>\n",
       "  </thead>\n",
       "  <tbody>\n",
       "    <tr>\n",
       "      <th>norm</th>\n",
       "      <td>0.000063</td>\n",
       "    </tr>\n",
       "    <tr>\n",
       "      <th>gamma</th>\n",
       "      <td>0.000065</td>\n",
       "    </tr>\n",
       "    <tr>\n",
       "      <th>beta</th>\n",
       "      <td>0.000066</td>\n",
       "    </tr>\n",
       "    <tr>\n",
       "      <th>uniform</th>\n",
       "      <td>0.002898</td>\n",
       "    </tr>\n",
       "  </tbody>\n",
       "</table>\n",
       "</div>"
      ],
      "text/plain": [
       "         sumsquare_error\n",
       "norm            0.000063\n",
       "gamma           0.000065\n",
       "beta            0.000066\n",
       "uniform         0.002898"
      ]
     },
     "execution_count": 42,
     "metadata": {},
     "output_type": "execute_result"
    },
    {
     "data": {
      "image/png": "[encoded data removed]",
      "text/plain": [
       "<Figure size 432x288 with 1 Axes>"
      ]
     },
     "metadata": {
      "needs_background": "light"
     },
     "output_type": "display_data"
    }
   ],
   "source": [
    "num = 0\n",
    "\n",
    "image = np.array(Image.open(os.path.join(DIRNAME, image_names[5])))\n",
    "a =image[:, :, num].ravel()\n",
    "f = Fitter(a, distributions=DISTRIBUTIONS, bins=BINS)\n",
    "f.fit()\n",
    "f.summary()"
   ]
  },
  {
   "cell_type": "code",
   "execution_count": 45,
   "metadata": {},
   "outputs": [
    {
     "ename": "NameError",
     "evalue": "name 'sqrt' is not defined",
     "output_type": "error",
     "traceback": [
      "\u001b[0;31m---------------------------------------------------------------------------\u001b[0m",
      "\u001b[0;31mNameError\u001b[0m                                 Traceback (most recent call last)",
      "\u001b[0;32m<ipython-input-45-5c7512e8eca8>\u001b[0m in \u001b[0;36m<module>\u001b[0;34m\u001b[0m\n\u001b[0;32m----> 1\u001b[0;31m \u001b[0msqrt\u001b[0m\u001b[0;34m(\u001b[0m\u001b[0mdata\u001b[0m\u001b[0;34m[\u001b[0m\u001b[0;34m'blue'\u001b[0m\u001b[0;34m]\u001b[0m\u001b[0;34m[\u001b[0m\u001b[0;36m1\u001b[0m\u001b[0;34m]\u001b[0m\u001b[0;34m[\u001b[0m\u001b[0;36m3\u001b[0m\u001b[0;34m]\u001b[0m\u001b[0;34m)\u001b[0m\u001b[0;34m\u001b[0m\u001b[0;34m\u001b[0m\u001b[0m\n\u001b[0m",
      "\u001b[0;31mNameError\u001b[0m: name 'sqrt' is not defined"
     ]
    }
   ],
   "source": [
    "sqrt(data['blue'][1][3])"
   ]
  },
  {
   "cell_type": "code",
   "execution_count": 46,
   "metadata": {},
   "outputs": [],
   "source": [
    "data = {}\n",
    "for name, num in COLOR.items():\n",
    "    data[name] = pd.DataFrame()\n",
    "    for image_name in image_names[31:32]:\n",
    "        image = np.array(Image.open(DIRNAME+'/'+image_name))\n",
    "        a = image[:, :, num].ravel()\n",
    "        d = {'name': image_name,\n",
    "             'min': np.min(a),\n",
    "             'max': np.max(a),\n",
    "             'mean': np.mean(a),\n",
    "             'var': np.var(a),\n",
    "             'median': np.median(a),\n",
    "             'interquartile': sp.stats.iqr(a),\n",
    "             'skewness': sp.stats.skew(a),\n",
    "             'kurtosis': sp.stats.kurtosis(a)}\n",
    "        data[name] = pd.concat([data[name], pd.DataFrame(pd.DataFrame(d, index=[0,]))], ignore_index=True)\n"
   ]
  },
  {
   "cell_type": "code",
   "execution_count": 47,
   "metadata": {},
   "outputs": [
    {
     "data": {
      "text/html": [
       "<div>\n",
       "<style scoped>\n",
       "    .dataframe tbody tr th:only-of-type {\n",
       "        vertical-align: middle;\n",
       "    }\n",
       "\n",
       "    .dataframe tbody tr th {\n",
       "        vertical-align: top;\n",
       "    }\n",
       "\n",
       "    .dataframe thead th {\n",
       "        text-align: right;\n",
       "    }\n",
       "</style>\n",
       "<table border=\"1\" class=\"dataframe\">\n",
       "  <thead>\n",
       "    <tr style=\"text-align: right;\">\n",
       "      <th></th>\n",
       "      <th>name</th>\n",
       "      <th>min</th>\n",
       "      <th>max</th>\n",
       "      <th>mean</th>\n",
       "      <th>var</th>\n",
       "      <th>median</th>\n",
       "      <th>interquartile</th>\n",
       "      <th>skewness</th>\n",
       "      <th>kurtosis</th>\n",
       "    </tr>\n",
       "  </thead>\n",
       "  <tbody>\n",
       "    <tr>\n",
       "      <th>0</th>\n",
       "      <td>im13841.jpg</td>\n",
       "      <td>0</td>\n",
       "      <td>255</td>\n",
       "      <td>84.573856</td>\n",
       "      <td>4698.197374</td>\n",
       "      <td>62.0</td>\n",
       "      <td>105.0</td>\n",
       "      <td>0.78827</td>\n",
       "      <td>-0.524737</td>\n",
       "    </tr>\n",
       "  </tbody>\n",
       "</table>\n",
       "</div>"
      ],
      "text/plain": [
       "          name  min  max       mean          var  median  interquartile  \\\n",
       "0  im13841.jpg    0  255  84.573856  4698.197374    62.0          105.0   \n",
       "\n",
       "   skewness  kurtosis  \n",
       "0   0.78827 -0.524737  "
      ]
     },
     "execution_count": 47,
     "metadata": {},
     "output_type": "execute_result"
    }
   ],
   "source": [
    "data['blue'].head()"
   ]
  },
  {
   "cell_type": "code",
   "execution_count": 48,
   "metadata": {},
   "outputs": [
    {
     "data": {
      "text/plain": [
       "0.7882695082548785"
      ]
     },
     "execution_count": 48,
     "metadata": {},
     "output_type": "execute_result"
    }
   ],
   "source": [
    "np.mean(data['blue']['skewness'])"
   ]
  },
  {
   "cell_type": "code",
   "execution_count": 49,
   "metadata": {},
   "outputs": [
    {
     "data": {
      "text/plain": [
       "1.1091378821101496"
      ]
     },
     "execution_count": 49,
     "metadata": {},
     "output_type": "execute_result"
    }
   ],
   "source": [
    "np.mean(data['red']['skewness'])"
   ]
  },
  {
   "cell_type": "code",
   "execution_count": 50,
   "metadata": {},
   "outputs": [
    {
     "data": {
      "text/plain": [
       "0.8920044706176806"
      ]
     },
     "execution_count": 50,
     "metadata": {},
     "output_type": "execute_result"
    }
   ],
   "source": [
    "np.mean(data['green']['skewness'])"
   ]
  },
  {
   "cell_type": "code",
   "execution_count": 51,
   "metadata": {},
   "outputs": [
    {
     "data": {
      "text/plain": [
       "-0.5247372386519196"
      ]
     },
     "execution_count": 51,
     "metadata": {},
     "output_type": "execute_result"
    }
   ],
   "source": [
    "np.mean(data['blue']['kurtosis'])"
   ]
  },
  {
   "cell_type": "code",
   "execution_count": 52,
   "metadata": {},
   "outputs": [
    {
     "data": {
      "text/html": [
       "<div>\n",
       "<style scoped>\n",
       "    .dataframe tbody tr th:only-of-type {\n",
       "        vertical-align: middle;\n",
       "    }\n",
       "\n",
       "    .dataframe tbody tr th {\n",
       "        vertical-align: top;\n",
       "    }\n",
       "\n",
       "    .dataframe thead th {\n",
       "        text-align: right;\n",
       "    }\n",
       "</style>\n",
       "<table border=\"1\" class=\"dataframe\">\n",
       "  <thead>\n",
       "    <tr style=\"text-align: right;\">\n",
       "      <th></th>\n",
       "      <th>name</th>\n",
       "      <th>min</th>\n",
       "      <th>max</th>\n",
       "      <th>mean</th>\n",
       "      <th>var</th>\n",
       "      <th>median</th>\n",
       "      <th>interquartile</th>\n",
       "      <th>skewness</th>\n",
       "      <th>kurtosis</th>\n",
       "    </tr>\n",
       "  </thead>\n",
       "  <tbody>\n",
       "    <tr>\n",
       "      <th>0</th>\n",
       "      <td>im13841.jpg</td>\n",
       "      <td>0</td>\n",
       "      <td>255</td>\n",
       "      <td>72.289712</td>\n",
       "      <td>3386.176746</td>\n",
       "      <td>56.0</td>\n",
       "      <td>74.0</td>\n",
       "      <td>1.109138</td>\n",
       "      <td>0.535192</td>\n",
       "    </tr>\n",
       "  </tbody>\n",
       "</table>\n",
       "</div>"
      ],
      "text/plain": [
       "          name  min  max       mean          var  median  interquartile  \\\n",
       "0  im13841.jpg    0  255  72.289712  3386.176746    56.0           74.0   \n",
       "\n",
       "   skewness  kurtosis  \n",
       "0  1.109138  0.535192  "
      ]
     },
     "execution_count": 52,
     "metadata": {},
     "output_type": "execute_result"
    }
   ],
   "source": [
    "data['red'].head()"
   ]
  },
  {
   "cell_type": "code",
   "execution_count": 53,
   "metadata": {},
   "outputs": [
    {
     "data": {
      "text/html": [
       "<div>\n",
       "<style scoped>\n",
       "    .dataframe tbody tr th:only-of-type {\n",
       "        vertical-align: middle;\n",
       "    }\n",
       "\n",
       "    .dataframe tbody tr th {\n",
       "        vertical-align: top;\n",
       "    }\n",
       "\n",
       "    .dataframe thead th {\n",
       "        text-align: right;\n",
       "    }\n",
       "</style>\n",
       "<table border=\"1\" class=\"dataframe\">\n",
       "  <thead>\n",
       "    <tr style=\"text-align: right;\">\n",
       "      <th></th>\n",
       "      <th>name</th>\n",
       "      <th>min</th>\n",
       "      <th>max</th>\n",
       "      <th>mean</th>\n",
       "      <th>var</th>\n",
       "      <th>median</th>\n",
       "      <th>interquartile</th>\n",
       "      <th>skewness</th>\n",
       "      <th>kurtosis</th>\n",
       "    </tr>\n",
       "  </thead>\n",
       "  <tbody>\n",
       "    <tr>\n",
       "      <th>0</th>\n",
       "      <td>im13841.jpg</td>\n",
       "      <td>0</td>\n",
       "      <td>255</td>\n",
       "      <td>81.252811</td>\n",
       "      <td>3899.110759</td>\n",
       "      <td>62.0</td>\n",
       "      <td>90.0</td>\n",
       "      <td>0.892004</td>\n",
       "      <td>-0.14301</td>\n",
       "    </tr>\n",
       "  </tbody>\n",
       "</table>\n",
       "</div>"
      ],
      "text/plain": [
       "          name  min  max       mean          var  median  interquartile  \\\n",
       "0  im13841.jpg    0  255  81.252811  3899.110759    62.0           90.0   \n",
       "\n",
       "   skewness  kurtosis  \n",
       "0  0.892004  -0.14301  "
      ]
     },
     "execution_count": 53,
     "metadata": {},
     "output_type": "execute_result"
    }
   ],
   "source": [
    "data['green'].head()"
   ]
  },
  {
   "cell_type": "code",
   "execution_count": 54,
   "metadata": {},
   "outputs": [
    {
     "name": "stdout",
     "output_type": "stream",
     "text": [
      "Fitted beta distribution with error=0.0019058213880676742)\n",
      "Fitted gamma distribution with error=0.0006802128329378386)\n",
      "Fitted uniform distribution with error=0.0017544654232962051)\n",
      "Fitted norm distribution with error=0.0014136769484721142)\n"
     ]
    },
    {
     "data": {
      "text/html": [
       "<div>\n",
       "<style scoped>\n",
       "    .dataframe tbody tr th:only-of-type {\n",
       "        vertical-align: middle;\n",
       "    }\n",
       "\n",
       "    .dataframe tbody tr th {\n",
       "        vertical-align: top;\n",
       "    }\n",
       "\n",
       "    .dataframe thead th {\n",
       "        text-align: right;\n",
       "    }\n",
       "</style>\n",
       "<table border=\"1\" class=\"dataframe\">\n",
       "  <thead>\n",
       "    <tr style=\"text-align: right;\">\n",
       "      <th></th>\n",
       "      <th>sumsquare_error</th>\n",
       "    </tr>\n",
       "  </thead>\n",
       "  <tbody>\n",
       "    <tr>\n",
       "      <th>gamma</th>\n",
       "      <td>0.000680</td>\n",
       "    </tr>\n",
       "    <tr>\n",
       "      <th>norm</th>\n",
       "      <td>0.001414</td>\n",
       "    </tr>\n",
       "    <tr>\n",
       "      <th>uniform</th>\n",
       "      <td>0.001754</td>\n",
       "    </tr>\n",
       "    <tr>\n",
       "      <th>beta</th>\n",
       "      <td>0.001906</td>\n",
       "    </tr>\n",
       "  </tbody>\n",
       "</table>\n",
       "</div>"
      ],
      "text/plain": [
       "         sumsquare_error\n",
       "gamma           0.000680\n",
       "norm            0.001414\n",
       "uniform         0.001754\n",
       "beta            0.001906"
      ]
     },
     "execution_count": 54,
     "metadata": {},
     "output_type": "execute_result"
    },
    {
     "data": {
      "image/png": "[encoded data removed]",
      "text/plain": [
       "<Figure size 432x288 with 1 Axes>"
      ]
     },
     "metadata": {
      "needs_background": "light"
     },
     "output_type": "display_data"
    }
   ],
   "source": [
    "num = 0\n",
    "\n",
    "image = np.array(Image.open(os.path.join(DIRNAME, image_names[30])))\n",
    "a =image[:, :, num].ravel()\n",
    "f = Fitter(a, distributions=DISTRIBUTIONS, bins=BINS)\n",
    "f.fit()\n",
    "f.summary()"
   ]
  },
  {
   "cell_type": "code",
   "execution_count": null,
   "metadata": {},
   "outputs": [],
   "source": []
  },
  {
   "cell_type": "code",
   "execution_count": 55,
   "metadata": {},
   "outputs": [
    {
     "name": "stdout",
     "output_type": "stream",
     "text": [
      "Fitted beta distribution with error=0.000325837344580975)\n",
      "Fitted gamma distribution with error=0.0002812428669461758)\n",
      "Fitted uniform distribution with error=0.0014117881340895734)\n",
      "Fitted norm distribution with error=0.0003181015271371517)\n"
     ]
    },
    {
     "data": {
      "text/html": [
       "<div>\n",
       "<style scoped>\n",
       "    .dataframe tbody tr th:only-of-type {\n",
       "        vertical-align: middle;\n",
       "    }\n",
       "\n",
       "    .dataframe tbody tr th {\n",
       "        vertical-align: top;\n",
       "    }\n",
       "\n",
       "    .dataframe thead th {\n",
       "        text-align: right;\n",
       "    }\n",
       "</style>\n",
       "<table border=\"1\" class=\"dataframe\">\n",
       "  <thead>\n",
       "    <tr style=\"text-align: right;\">\n",
       "      <th></th>\n",
       "      <th>sumsquare_error</th>\n",
       "    </tr>\n",
       "  </thead>\n",
       "  <tbody>\n",
       "    <tr>\n",
       "      <th>gamma</th>\n",
       "      <td>0.000281</td>\n",
       "    </tr>\n",
       "    <tr>\n",
       "      <th>norm</th>\n",
       "      <td>0.000318</td>\n",
       "    </tr>\n",
       "    <tr>\n",
       "      <th>beta</th>\n",
       "      <td>0.000326</td>\n",
       "    </tr>\n",
       "    <tr>\n",
       "      <th>uniform</th>\n",
       "      <td>0.001412</td>\n",
       "    </tr>\n",
       "  </tbody>\n",
       "</table>\n",
       "</div>"
      ],
      "text/plain": [
       "         sumsquare_error\n",
       "gamma           0.000281\n",
       "norm            0.000318\n",
       "beta            0.000326\n",
       "uniform         0.001412"
      ]
     },
     "execution_count": 55,
     "metadata": {},
     "output_type": "execute_result"
    },
    {
     "data": {
      "image/png": "[encoded data removed]",
      "text/plain": [
       "<Figure size 432x288 with 1 Axes>"
      ]
     },
     "metadata": {
      "needs_background": "light"
     },
     "output_type": "display_data"
    }
   ],
   "source": [
    "num = 1\n",
    "\n",
    "image = np.array(Image.open(os.path.join(DIRNAME, image_names[30])))\n",
    "a =image[:, :, num].ravel()\n",
    "f = Fitter(a, distributions=DISTRIBUTIONS, bins=BINS)\n",
    "f.fit()\n",
    "f.summary()"
   ]
  },
  {
   "cell_type": "code",
   "execution_count": 56,
   "metadata": {},
   "outputs": [
    {
     "name": "stderr",
     "output_type": "stream",
     "text": [
      "/usr/local/lib/python3.6/dist-packages/scipy/optimize/minpack.py:162: RuntimeWarning:\n",
      "\n",
      "The iteration is not making good progress, as measured by the \n",
      "  improvement from the last ten iterations.\n",
      "\n"
     ]
    },
    {
     "name": "stdout",
     "output_type": "stream",
     "text": [
      "Fitted beta distribution with error=0.001283136348185187)\n",
      "Fitted gamma distribution with error=0.0012831264900435575)\n",
      "Fitted uniform distribution with error=0.005255195750668792)\n",
      "Fitted norm distribution with error=0.0011088801815928835)\n"
     ]
    },
    {
     "data": {
      "text/html": [
       "<div>\n",
       "<style scoped>\n",
       "    .dataframe tbody tr th:only-of-type {\n",
       "        vertical-align: middle;\n",
       "    }\n",
       "\n",
       "    .dataframe tbody tr th {\n",
       "        vertical-align: top;\n",
       "    }\n",
       "\n",
       "    .dataframe thead th {\n",
       "        text-align: right;\n",
       "    }\n",
       "</style>\n",
       "<table border=\"1\" class=\"dataframe\">\n",
       "  <thead>\n",
       "    <tr style=\"text-align: right;\">\n",
       "      <th></th>\n",
       "      <th>sumsquare_error</th>\n",
       "    </tr>\n",
       "  </thead>\n",
       "  <tbody>\n",
       "    <tr>\n",
       "      <th>norm</th>\n",
       "      <td>0.001109</td>\n",
       "    </tr>\n",
       "    <tr>\n",
       "      <th>gamma</th>\n",
       "      <td>0.001283</td>\n",
       "    </tr>\n",
       "    <tr>\n",
       "      <th>beta</th>\n",
       "      <td>0.001283</td>\n",
       "    </tr>\n",
       "    <tr>\n",
       "      <th>uniform</th>\n",
       "      <td>0.005255</td>\n",
       "    </tr>\n",
       "  </tbody>\n",
       "</table>\n",
       "</div>"
      ],
      "text/plain": [
       "         sumsquare_error\n",
       "norm            0.001109\n",
       "gamma           0.001283\n",
       "beta            0.001283\n",
       "uniform         0.005255"
      ]
     },
     "execution_count": 56,
     "metadata": {},
     "output_type": "execute_result"
    },
    {
     "data": {
      "image/png": "[encoded data removed]",
      "text/plain": [
       "<Figure size 432x288 with 1 Axes>"
      ]
     },
     "metadata": {
      "needs_background": "light"
     },
     "output_type": "display_data"
    }
   ],
   "source": [
    "num = 2\n",
    "\n",
    "image = np.array(Image.open(os.path.join(DIRNAME, image_names[30])))\n",
    "a =image[:, :, num].ravel()\n",
    "f = Fitter(a, distributions=DISTRIBUTIONS, bins=BINS)\n",
    "f.fit()\n",
    "f.summary()"
   ]
  },
  {
   "cell_type": "code",
   "execution_count": 57,
   "metadata": {},
   "outputs": [
    {
     "data": {
      "text/plain": [
       "{'red': defaultdict(int, {'gamma': 32, 'beta': 65, 'norm': 6, 'uniform': 2}),\n",
       " 'green': defaultdict(int,\n",
       "             {'gamma': 31, 'norm': 12, 'beta': 60, 'uniform': 2}),\n",
       " 'blue': defaultdict(int, {'gamma': 26, 'norm': 11, 'beta': 66, 'uniform': 2})}"
      ]
     },
     "execution_count": 57,
     "metadata": {},
     "output_type": "execute_result"
    }
   ],
   "source": [
    "hist\n"
   ]
  },
  {
   "cell_type": "code",
   "execution_count": null,
   "metadata": {},
   "outputs": [],
   "source": []
  },
  {
   "cell_type": "code",
   "execution_count": null,
   "metadata": {},
   "outputs": [],
   "source": []
  },
  {
   "cell_type": "code",
   "execution_count": null,
   "metadata": {},
   "outputs": [],
   "source": []
  }
 ],
 "metadata": {
  "kernelspec": {
   "display_name": "Python 3",
   "language": "python",
   "name": "python3"
  },
  "language_info": {
   "codemirror_mode": {
    "name": "ipython",
    "version": 3
   },
   "file_extension": ".py",
   "mimetype": "text/x-python",
   "name": "python",
   "nbconvert_exporter": "python",
   "pygments_lexer": "ipython3",
   "version": "3.6.7"
  }
 },
 "nbformat": 4,
 "nbformat_minor": 2
}
